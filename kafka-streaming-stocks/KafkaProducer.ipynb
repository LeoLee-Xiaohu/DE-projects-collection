{
 "cells": [
  {
   "cell_type": "code",
   "execution_count": 1,
   "id": "e2d3f594",
   "metadata": {},
   "outputs": [
    {
     "name": "stdout",
     "output_type": "stream",
     "text": [
      "Collecting kafka-python\n",
      "  Downloading kafka_python-2.0.2-py2.py3-none-any.whl (246 kB)\n",
      "\u001b[K     |████████████████████████████████| 246 kB 3.4 MB/s eta 0:00:01\n",
      "\u001b[?25hInstalling collected packages: kafka-python\n",
      "Successfully installed kafka-python-2.0.2\n",
      "Note: you may need to restart the kernel to use updated packages.\n"
     ]
    }
   ],
   "source": [
    "pip install kafka-python"
   ]
  },
  {
   "cell_type": "code",
   "execution_count": 3,
   "id": "f19405f0",
   "metadata": {},
   "outputs": [],
   "source": [
    "import pandas as pd\n",
    "from kafka import KafkaProducer\n",
    "from time import sleep\n",
    "from json import dumps\n",
    "import json"
   ]
  },
  {
   "cell_type": "code",
   "execution_count": 4,
   "id": "b483a0e4",
   "metadata": {},
   "outputs": [],
   "source": [
    "producer = KafkaProducer(bootstrap_servers=['16.50.58.215:9092'], #change ip here\n",
    "                         value_serializer=lambda x: \n",
    "                         dumps(x).encode('utf-8'))"
   ]
  },
  {
   "cell_type": "code",
   "execution_count": 8,
   "id": "0c30b915",
   "metadata": {},
   "outputs": [
    {
     "data": {
      "text/plain": [
       "<kafka.producer.future.FutureRecordMetadata at 0x7ffccdaa54c0>"
      ]
     },
     "execution_count": 8,
     "metadata": {},
     "output_type": "execute_result"
    }
   ],
   "source": [
    "producer.send('first_topic', value={'producer':'julia'})"
   ]
  },
  {
   "cell_type": "code",
   "execution_count": 10,
   "id": "cc8d45aa",
   "metadata": {},
   "outputs": [],
   "source": [
    "df = pd.read_csv(\"./indexProcessed.csv\")"
   ]
  },
  {
   "cell_type": "code",
   "execution_count": null,
   "id": "113a2516",
   "metadata": {},
   "outputs": [],
   "source": [
    "df.head()"
   ]
  },
  {
   "cell_type": "code",
   "execution_count": 14,
   "id": "98862a02",
   "metadata": {},
   "outputs": [
    {
     "data": {
      "text/plain": [
       "[{'Index': 'HSI',\n",
       "  'Date': '1991-06-13',\n",
       "  'Open': 3627.0,\n",
       "  'High': 3665.0,\n",
       "  'Low': 3627.0,\n",
       "  'Close': 3632.0,\n",
       "  'Adj Close': 3632.0,\n",
       "  'Volume': 0.0,\n",
       "  'CloseUSD': 472.16}]"
      ]
     },
     "execution_count": 14,
     "metadata": {},
     "output_type": "execute_result"
    }
   ],
   "source": [
    "df.sample(1).to_dict(orient = \"records\")"
   ]
  },
  {
   "cell_type": "code",
   "execution_count": null,
   "id": "4c7ec0be",
   "metadata": {},
   "outputs": [],
   "source": [
    "while True:\n",
    "    dict_stock = df.sample(1).to_dict(orient=\"records\")[0]\n",
    "    producer.send('first_topic', value=dict_stock)\n",
    "    sleep(1)"
   ]
  },
  {
   "cell_type": "code",
   "execution_count": 19,
   "id": "ed71c0e4",
   "metadata": {},
   "outputs": [],
   "source": [
    "producer.flush() #clear data from kafka server"
   ]
  }
 ],
 "metadata": {
  "kernelspec": {
   "display_name": "Python 3 (ipykernel)",
   "language": "python",
   "name": "python3"
  },
  "language_info": {
   "codemirror_mode": {
    "name": "ipython",
    "version": 3
   },
   "file_extension": ".py",
   "mimetype": "text/x-python",
   "name": "python",
   "nbconvert_exporter": "python",
   "pygments_lexer": "ipython3",
   "version": "3.8.13"
  }
 },
 "nbformat": 4,
 "nbformat_minor": 5
}
