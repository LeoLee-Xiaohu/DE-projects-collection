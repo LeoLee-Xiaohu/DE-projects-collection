{
 "cells": [
  {
   "cell_type": "code",
   "execution_count": 2,
   "id": "2ba773ce",
   "metadata": {},
   "outputs": [
    {
     "name": "stdout",
     "output_type": "stream",
     "text": [
      "Collecting s3fs\n",
      "  Using cached s3fs-2023.5.0-py3-none-any.whl (28 kB)\n",
      "Collecting aiohttp!=4.0.0a0,!=4.0.0a1\n",
      "  Downloading aiohttp-3.8.4-cp38-cp38-macosx_10_9_x86_64.whl (359 kB)\n",
      "\u001b[K     |████████████████████████████████| 359 kB 4.0 MB/s eta 0:00:01\n",
      "\u001b[?25hCollecting fsspec==2023.5.0\n",
      "  Using cached fsspec-2023.5.0-py3-none-any.whl (160 kB)\n",
      "Collecting aiobotocore~=2.5.0\n",
      "  Using cached aiobotocore-2.5.0-py3-none-any.whl (72 kB)\n",
      "Collecting botocore<1.29.77,>=1.29.76\n",
      "  Using cached botocore-1.29.76-py3-none-any.whl (10.4 MB)\n",
      "Collecting aioitertools>=0.5.1\n",
      "  Using cached aioitertools-0.11.0-py3-none-any.whl (23 kB)\n",
      "Requirement already satisfied: wrapt>=1.10.10 in /Users/Rui/anaconda3/envs/DE/lib/python3.8/site-packages (from aiobotocore~=2.5.0->s3fs) (1.14.1)\n",
      "Requirement already satisfied: attrs>=17.3.0 in /Users/Rui/anaconda3/envs/DE/lib/python3.8/site-packages (from aiohttp!=4.0.0a0,!=4.0.0a1->s3fs) (23.1.0)\n",
      "Collecting frozenlist>=1.1.1\n",
      "  Downloading frozenlist-1.3.3-cp38-cp38-macosx_10_9_x86_64.whl (36 kB)\n",
      "Collecting aiosignal>=1.1.2\n",
      "  Using cached aiosignal-1.3.1-py3-none-any.whl (7.6 kB)\n",
      "Requirement already satisfied: charset-normalizer<4.0,>=2.0 in /Users/Rui/anaconda3/envs/DE/lib/python3.8/site-packages (from aiohttp!=4.0.0a0,!=4.0.0a1->s3fs) (2.1.0)\n",
      "Collecting multidict<7.0,>=4.5\n",
      "  Downloading multidict-6.0.4-cp38-cp38-macosx_10_9_x86_64.whl (29 kB)\n",
      "Collecting async-timeout<5.0,>=4.0.0a3\n",
      "  Using cached async_timeout-4.0.2-py3-none-any.whl (5.8 kB)\n",
      "Collecting yarl<2.0,>=1.0\n",
      "  Downloading yarl-1.9.2-cp38-cp38-macosx_10_9_x86_64.whl (65 kB)\n",
      "\u001b[K     |████████████████████████████████| 65 kB 5.6 MB/s eta 0:00:011\n",
      "\u001b[?25hRequirement already satisfied: typing_extensions>=4.0 in /Users/Rui/anaconda3/envs/DE/lib/python3.8/site-packages (from aioitertools>=0.5.1->aiobotocore~=2.5.0->s3fs) (4.3.0)\n",
      "Requirement already satisfied: python-dateutil<3.0.0,>=2.1 in /Users/Rui/anaconda3/envs/DE/lib/python3.8/site-packages (from botocore<1.29.77,>=1.29.76->aiobotocore~=2.5.0->s3fs) (2.8.2)\n",
      "Requirement already satisfied: urllib3<1.27,>=1.25.4 in /Users/Rui/anaconda3/envs/DE/lib/python3.8/site-packages (from botocore<1.29.77,>=1.29.76->aiobotocore~=2.5.0->s3fs) (1.26.10)\n",
      "Collecting jmespath<2.0.0,>=0.7.1\n",
      "  Using cached jmespath-1.0.1-py3-none-any.whl (20 kB)\n",
      "Requirement already satisfied: six>=1.5 in /Users/Rui/anaconda3/envs/DE/lib/python3.8/site-packages (from python-dateutil<3.0.0,>=2.1->botocore<1.29.77,>=1.29.76->aiobotocore~=2.5.0->s3fs) (1.16.0)\n",
      "Requirement already satisfied: idna>=2.0 in /Users/Rui/anaconda3/envs/DE/lib/python3.8/site-packages (from yarl<2.0,>=1.0->aiohttp!=4.0.0a0,!=4.0.0a1->s3fs) (3.3)\n",
      "Installing collected packages: multidict, frozenlist, yarl, jmespath, async-timeout, aiosignal, botocore, aioitertools, aiohttp, fsspec, aiobotocore, s3fs\n",
      "Successfully installed aiobotocore-2.5.0 aiohttp-3.8.4 aioitertools-0.11.0 aiosignal-1.3.1 async-timeout-4.0.2 botocore-1.29.76 frozenlist-1.3.3 fsspec-2023.5.0 jmespath-1.0.1 multidict-6.0.4 s3fs-2023.5.0 yarl-1.9.2\n",
      "Note: you may need to restart the kernel to use updated packages.\n"
     ]
    }
   ],
   "source": [
    "pip install s3fs\n"
   ]
  },
  {
   "cell_type": "code",
   "execution_count": 9,
   "id": "b6675043",
   "metadata": {},
   "outputs": [],
   "source": [
    "from kafka import KafkaConsumer\n",
    "from time import sleep\n",
    "from json import dumps,loads\n",
    "import json\n",
    "from s3fs import S3FileSystem"
   ]
  },
  {
   "cell_type": "code",
   "execution_count": 4,
   "id": "9eeff3ef",
   "metadata": {},
   "outputs": [],
   "source": [
    "consumer = KafkaConsumer(\n",
    "    'first_topic',\n",
    "     bootstrap_servers=['16.50.58.215:9092'], #add your IP here\n",
    "    value_deserializer=lambda x: loads(x.decode('utf-8')))"
   ]
  },
  {
   "cell_type": "code",
   "execution_count": null,
   "id": "eda5a608",
   "metadata": {},
   "outputs": [],
   "source": [
    "for c in consumer:\n",
    "    print(c.value)"
   ]
  },
  {
   "cell_type": "code",
   "execution_count": 27,
   "id": "8d60dc6c",
   "metadata": {},
   "outputs": [],
   "source": [
    "s3 = S3FileSystem(anon=False)"
   ]
  },
  {
   "cell_type": "code",
   "execution_count": null,
   "id": "0f135e81",
   "metadata": {},
   "outputs": [],
   "source": [
    "for count, i in enumerate(consumer):\n",
    "    with s3.open(\"s3://kafka-stock-market-8893-leo/stock_market_{}.json\".format(count), 'w') as file:\n",
    "        json.dump(i.value, file)    "
   ]
  },
  {
   "cell_type": "code",
   "execution_count": 29,
   "id": "7b78b611",
   "metadata": {},
   "outputs": [
    {
     "data": {
      "text/plain": [
       "['kafka-stock-market-8893-leo/stock_market_0.json',\n",
       " 'kafka-stock-market-8893-leo/stock_market_1.json',\n",
       " 'kafka-stock-market-8893-leo/stock_market_10.json',\n",
       " 'kafka-stock-market-8893-leo/stock_market_11.json',\n",
       " 'kafka-stock-market-8893-leo/stock_market_12.json',\n",
       " 'kafka-stock-market-8893-leo/stock_market_13.json',\n",
       " 'kafka-stock-market-8893-leo/stock_market_14.json',\n",
       " 'kafka-stock-market-8893-leo/stock_market_15.json',\n",
       " 'kafka-stock-market-8893-leo/stock_market_2.json',\n",
       " 'kafka-stock-market-8893-leo/stock_market_3.json',\n",
       " 'kafka-stock-market-8893-leo/stock_market_4.json',\n",
       " 'kafka-stock-market-8893-leo/stock_market_5.json',\n",
       " 'kafka-stock-market-8893-leo/stock_market_6.json',\n",
       " 'kafka-stock-market-8893-leo/stock_market_7.json',\n",
       " 'kafka-stock-market-8893-leo/stock_market_8.json',\n",
       " 'kafka-stock-market-8893-leo/stock_market_9.json']"
      ]
     },
     "execution_count": 29,
     "metadata": {},
     "output_type": "execute_result"
    }
   ],
   "source": [
    "s33 = S3FileSystem(anon=False)\n",
    "s33.ls('kafka-stock-market-8893-leo')"
   ]
  }
 ],
 "metadata": {
  "kernelspec": {
   "display_name": "Python 3 (ipykernel)",
   "language": "python",
   "name": "python3"
  },
  "language_info": {
   "codemirror_mode": {
    "name": "ipython",
    "version": 3
   },
   "file_extension": ".py",
   "mimetype": "text/x-python",
   "name": "python",
   "nbconvert_exporter": "python",
   "pygments_lexer": "ipython3",
   "version": "3.8.13"
  }
 },
 "nbformat": 4,
 "nbformat_minor": 5
}
