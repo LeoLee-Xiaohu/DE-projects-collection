{
 "cells": [
  {
   "cell_type": "markdown",
   "id": "55a2028f",
   "metadata": {},
   "source": [
    "# 1.0 oop 介绍\n",
    "\n",
    "### dir(), help()will show the documentation for the object or class x.\n",
    "### self refer to an instance"
   ]
  },
  {
   "cell_type": "code",
   "execution_count": 2,
   "id": "8d7c3a55",
   "metadata": {},
   "outputs": [
    {
     "name": "stdout",
     "output_type": "stream",
     "text": [
      "(-3.0, 0.0)\n",
      "5.0\n"
     ]
    }
   ],
   "source": [
    "# Write the class Point as outlined in the instructionsimpor\n",
    "import numpy as np \n",
    "\n",
    "class Point():\n",
    "    def __init__(self, x = 0.0 , y =0.0):\n",
    "        self.x = x \n",
    "        self.y = y \n",
    "\n",
    "    def distance_to_origin(self ):\n",
    "        return np.sqrt(self.x ** 2 + self.y ** 2 )\n",
    "\n",
    "    def reflect(self, axis):\n",
    "        if axis == 'x':\n",
    "            self.y = - self.y \n",
    "        elif axis == 'y':\n",
    "            self.x = - self.x \n",
    "        else:\n",
    "            print('Error')\n",
    "\n",
    "pt = Point(x=3.0)\n",
    "pt.reflect(\"y\")\n",
    "print((pt.x, pt.y))\n",
    "pt.y = 4.0\n",
    "print(pt.distance_to_origin())"
   ]
  },
  {
   "cell_type": "code",
   "execution_count": 3,
   "id": "4925d336",
   "metadata": {},
   "outputs": [
    {
     "name": "stdout",
     "output_type": "stream",
     "text": [
      "Help on class Point in module __main__:\n",
      "\n",
      "class Point(builtins.object)\n",
      " |  Methods defined here:\n",
      " |  \n",
      " |  __init__(self, x=0.0, y=0.0)\n",
      " |      Initialize self.  See help(type(self)) for accurate signature.\n",
      " |  \n",
      " |  distance_to_origin(self)\n",
      " |  \n",
      " |  reflect(self, axis)\n",
      " |  \n",
      " |  ----------------------------------------------------------------------\n",
      " |  Data descriptors defined here:\n",
      " |  \n",
      " |  __dict__\n",
      " |      dictionary for instance variables (if defined)\n",
      " |  \n",
      " |  __weakref__\n",
      " |      list of weak references to the object (if defined)\n",
      "\n"
     ]
    }
   ],
   "source": [
    "help(Point\n",
    "    )"
   ]
  },
  {
   "cell_type": "code",
   "execution_count": 4,
   "id": "e034e112",
   "metadata": {},
   "outputs": [
    {
     "data": {
      "text/plain": [
       "['__class__',\n",
       " '__delattr__',\n",
       " '__dict__',\n",
       " '__dir__',\n",
       " '__doc__',\n",
       " '__eq__',\n",
       " '__format__',\n",
       " '__ge__',\n",
       " '__getattribute__',\n",
       " '__gt__',\n",
       " '__hash__',\n",
       " '__init__',\n",
       " '__init_subclass__',\n",
       " '__le__',\n",
       " '__lt__',\n",
       " '__module__',\n",
       " '__ne__',\n",
       " '__new__',\n",
       " '__reduce__',\n",
       " '__reduce_ex__',\n",
       " '__repr__',\n",
       " '__setattr__',\n",
       " '__sizeof__',\n",
       " '__str__',\n",
       " '__subclasshook__',\n",
       " '__weakref__',\n",
       " 'distance_to_origin',\n",
       " 'reflect']"
      ]
     },
     "execution_count": 4,
     "metadata": {},
     "output_type": "execute_result"
    }
   ],
   "source": [
    "dir(Point)"
   ]
  },
  {
   "cell_type": "markdown",
   "id": "b6c21e40",
   "metadata": {},
   "source": [
    "# 2. Class.Attributes & class.method()\n",
    "\n",
    "@classmethod decorator and a special first argument cls. "
   ]
  },
  {
   "cell_type": "code",
   "execution_count": 5,
   "id": "b8275873",
   "metadata": {},
   "outputs": [
    {
     "name": "stdout",
     "output_type": "stream",
     "text": [
      "2021\n",
      "11\n",
      "28\n"
     ]
    }
   ],
   "source": [
    "# import datetime from datetime\n",
    "from datetime import datetime\n",
    "\n",
    "class BetterDate:\n",
    "    def __init__(self, year, month, day):\n",
    "        self.year, self.month, self.day = year, month, day\n",
    "      \n",
    "    @classmethod\n",
    "    def from_str(cls, datestr):\n",
    "        year, month, day = map(int, datestr.split(\"-\"))\n",
    "        return cls(year, month, day)\n",
    "      \n",
    "    # Define a class method from_datetime accepting a datetime object\n",
    "    @classmethod \n",
    "    def from_datetime(cls, datetime):\n",
    "        year, month, day =  datetime.year, datetime.month, datetime.day\n",
    "        return BetterDate(year,month, day)\n",
    "\n",
    "\n",
    "# You should be able to run the code below with no errors: \n",
    "today = datetime.today()     \n",
    "bd = BetterDate.from_datetime(today)   \n",
    "print(bd.year)\n",
    "print(bd.month)\n",
    "print(bd.day)"
   ]
  },
  {
   "cell_type": "markdown",
   "id": "005b61ab",
   "metadata": {},
   "source": [
    "# 2.1 继承类"
   ]
  },
  {
   "cell_type": "code",
   "execution_count": 6,
   "id": "28881b7e",
   "metadata": {},
   "outputs": [
    {
     "name": "stdout",
     "output_type": "stream",
     "text": [
      "Debbie Lashko\n",
      "ManagerDebbie Lashko\n"
     ]
    }
   ],
   "source": [
    "class Employee:\n",
    "    MIN_SALARY = 30000    \n",
    "\n",
    "    def __init__(self, name, salary=MIN_SALARY):\n",
    "        self.name = name\n",
    "        if salary >= Employee.MIN_SALARY:\n",
    "            self.salary = salary\n",
    "        else:\n",
    "            self.salary = Employee.MIN_SALARY\n",
    "    def give_raise(self, amount):\n",
    "        self.salary += amount      \n",
    "        \n",
    "# MODIFY Manager class and add a display method\n",
    "class Manager(Employee):\n",
    "    def display(self):\n",
    "        print(\"Manager{}\".format(self.name))\n",
    "\n",
    "mng = Manager(\"Debbie Lashko\", 86500)\n",
    "print(mng.name)\n",
    "\n",
    "# Call mng.display()\n",
    "mng.display()"
   ]
  },
  {
   "cell_type": "markdown",
   "id": "1d7b74de",
   "metadata": {},
   "source": [
    "# 2.2 继承类的constructor 和 继承类函数"
   ]
  },
  {
   "cell_type": "code",
   "execution_count": 7,
   "id": "bc81f3ed",
   "metadata": {},
   "outputs": [
    {
     "name": "stdout",
     "output_type": "stream",
     "text": [
      "79550.0\n",
      "81610.0\n"
     ]
    }
   ],
   "source": [
    "class Employee:\n",
    "    def __init__(self, name, salary=30000):\n",
    "        self.name = name\n",
    "        self.salary = salary\n",
    "\n",
    "    def give_raise(self, amount):\n",
    "        self.salary += amount\n",
    "\n",
    "        \n",
    "class Manager(Employee):\n",
    "    def display(self):\n",
    "        print(\"Manager \", self.name)\n",
    "\n",
    "##继承类constructor构造方法Class.__init__(self, 参数)\n",
    "    def __init__(self, name, salary=50000, project=None):\n",
    "        Employee.__init__(self, name, salary)\n",
    "        self.project = project\n",
    "\n",
    "    # Add a give_raise method 继承父类函数\n",
    "    def give_raise(self, amount, bonus = 1.05):\n",
    "        new_amount = amount * bonus\n",
    "        Employee.give_raise(self, new_amount)\n",
    "    \n",
    "    \n",
    "mngr = Manager(\"Ashta Dunbar\", 78500)\n",
    "mngr.give_raise(1000)\n",
    "print(mngr.salary)\n",
    "mngr.give_raise(2000, bonus=1.03)\n",
    "print(mngr.salary)"
   ]
  },
  {
   "cell_type": "code",
   "execution_count": 8,
   "id": "f934fbb6",
   "metadata": {},
   "outputs": [
    {
     "name": "stdout",
     "output_type": "stream",
     "text": [
      "[[1 3]\n",
      " [2 4]]\n",
      "2021-11-28 23:29:14.928352\n"
     ]
    }
   ],
   "source": [
    "# Import pandas as pd\n",
    "import pandas as pd\n",
    " \n",
    "\n",
    "# Define LoggedDF inherited from pd.DataFrame and add the constructor\n",
    "class LoggedDF(pd.DataFrame):\n",
    "    def __init__(self, *args, **kwargs ):\n",
    "        pd.DataFrame.__init__(self, *args,**kwargs)\n",
    "        self.created_at = datetime.today()\n",
    "\n",
    "    \n",
    "\n",
    "\n",
    "\n",
    "# Define LoggedDF inherited from pd.DataFrame and add the constructor\n",
    "class LoggedDF(pd.DataFrame):\n",
    "  \n",
    "    def __init__(self, *args, **kwargs):\n",
    "        pd.DataFrame.__init__(self, *args, **kwargs)\n",
    "        self.created_at = datetime.today()\n",
    "    \n",
    "    def to_csv(self, *args, **kwargs):\n",
    "    # Copy self to a temporary DataFrame\n",
    "        temp = self.copy()\n",
    "    \n",
    "    # Create a new column filled with self.created_at\n",
    "        temp[\"created_at\"] = self.created_at\n",
    "    \n",
    "    # Call pd.DataFrame.to_csv on temp, passing in *args and **kwargs\n",
    "        pd.DataFrame.to_csv(temp, *args, **kwargs)"
   ]
  },
  {
   "cell_type": "markdown",
   "id": "cc568326",
   "metadata": {},
   "source": [
    "# 3.1 比较两个instance，使其相等__eq__(slef, other)\n"
   ]
  },
  {
   "cell_type": "code",
   "execution_count": null,
   "id": "6f9919eb",
   "metadata": {},
   "outputs": [],
   "source": [
    "==\n",
    " __eq__()\n",
    " !=\n",
    " __ne__()\n",
    " >=\n",
    " __ge__()\n",
    " <=\n",
    " __le__()\n",
    " >\n",
    " __gt__()\n",
    " <\n",
    " __lt__()"
   ]
  },
  {
   "cell_type": "code",
   "execution_count": 9,
   "id": "bdca9348",
   "metadata": {},
   "outputs": [
    {
     "name": "stdout",
     "output_type": "stream",
     "text": [
      "__eq__() is called\n"
     ]
    },
    {
     "data": {
      "text/plain": [
       "True"
      ]
     },
     "execution_count": 9,
     "metadata": {},
     "output_type": "execute_result"
    }
   ],
   "source": [
    "\n",
    "class Customer:\n",
    "    def __init__(self, id, name):\n",
    "        self.id, self.name = id, name\n",
    "  # Will be called when == is used\n",
    "    def __eq__(self, other):\n",
    "    # Diagnostic printout\n",
    "        print(\"__eq__() is called\")\n",
    "    # Returns True if all attributes match\n",
    "        return (self.id == other.id) and \\\n",
    "               (self.name == other.name)\n",
    "    \n",
    "  # Two equal objects\n",
    "customer1 = Customer(123, \"Maryam Azar\")\n",
    "customer2 = Customer(123, \"Maryam Azar\")\n",
    "customer1 == customer2"
   ]
  },
  {
   "cell_type": "code",
   "execution_count": null,
   "id": "e315e16a",
   "metadata": {},
   "outputs": [],
   "source": [
    "class BankAccount:\n",
    "   # MODIFY to initialize a number attribute\n",
    "    def __init__(self,number, balance=0):\n",
    "        self.number = number \n",
    "        self.balance = balance\n",
    "      \n",
    "    def withdraw(self, amount):\n",
    "        self.balance -= amount \n",
    "    \n",
    "    # Define __eq__ that returns True if the number attributes are equal 只比较init中的一个参数，返回其中一个参数比较\n",
    "    def __eq__(self, other):\n",
    "        return self.number == other.number    \n",
    "\n",
    "# Create accounts and compare them       \n",
    "acct1 = BankAccount(123, 1000)\n",
    "acct2 = BankAccount(123, 1000)\n",
    "acct3 = BankAccount(456, 1000)\n",
    "print(acct1 == acct2)\n",
    "print(acct1 == acct3)\n",
    "    "
   ]
  },
  {
   "cell_type": "markdown",
   "id": "678bf838",
   "metadata": {},
   "source": [
    "# 3.2 __str__() 和__repr__()\n",
    "### __str__()类似一般打印print， 主要用于一般user\n",
    "### __repr__打印object名称，主要用于developer"
   ]
  },
  {
   "cell_type": "code",
   "execution_count": 13,
   "id": "92f2a806",
   "metadata": {},
   "outputs": [
    {
     "name": "stdout",
     "output_type": "stream",
     "text": [
      "c.id is 12\n"
     ]
    },
    {
     "data": {
      "text/plain": [
       "'c(\"12\", \"JACK\")'"
      ]
     },
     "execution_count": 13,
     "metadata": {},
     "output_type": "execute_result"
    }
   ],
   "source": [
    "class c():\n",
    "    def  __init__(self, id, name ):\n",
    "        self.id = id\n",
    "        self.name = name \n",
    "        \n",
    "    def __str__(self):\n",
    "        return(\"c.id is {}\".format(self.id))\n",
    "    \n",
    "    def  __repr__(self):\n",
    "        return('c(\"{}\", \"{}\")'.format(self.id, self.name))\n",
    "    \n",
    "c1 = c(12, 'JACK')\n",
    "print(c1)\n",
    "str(c1)\n",
    "repr(c1)\n",
    "    \n",
    "    "
   ]
  },
  {
   "cell_type": "markdown",
   "id": "119c051a",
   "metadata": {},
   "source": [
    "# 3.3 eception 处理"
   ]
  },
  {
   "cell_type": "code",
   "execution_count": 14,
   "id": "754ec587",
   "metadata": {},
   "outputs": [
    {
     "name": "stdout",
     "output_type": "stream",
     "text": [
      "0.16666666666666666\n",
      "Cannot divide by zero!\n",
      "None\n",
      "Index out of range!\n",
      "None\n"
     ]
    }
   ],
   "source": [
    "# MODIFY the function to catch exceptions\n",
    "def invert_at_index(x, ind):\n",
    "    try:\n",
    "        return  1/x[ind]\n",
    "    except ZeroDivisionError :\n",
    "        print('Cannot divide by zero!')\n",
    "    except IndexError :\n",
    "        print('Index out of range!')\n",
    "\n",
    "        \n",
    "a = [5,6,0,7]\n",
    "\n",
    "# Works okay\n",
    "print(invert_at_index(a, 1))\n",
    "\n",
    "# Potential ZeroDivisionError\n",
    "print(invert_at_index(a, 2))\n",
    "\n",
    "# Potential IndexError\n",
    "print(invert_at_index(a, 5))"
   ]
  },
  {
   "cell_type": "markdown",
   "id": "e5e92262",
   "metadata": {},
   "source": [
    "### 3.3.2 Custom exceptions\n",
    "####  Notice that if you raise an exception inside an if statement, you don't need to add an else branch to run the rest of the code. Because raise terminates the function, the code after raise will only be executed if an exception did not occur."
   ]
  },
  {
   "cell_type": "code",
   "execution_count": 23,
   "id": "c4aaa1eb",
   "metadata": {},
   "outputs": [
    {
     "ename": "NameError",
     "evalue": "name 'Em2' is not defined",
     "output_type": "error",
     "traceback": [
      "\u001b[0;31m---------------------------------------------------------------------------\u001b[0m",
      "\u001b[0;31mNameError\u001b[0m                                 Traceback (most recent call last)",
      "\u001b[0;32m<ipython-input-23-d35b1556621a>\u001b[0m in \u001b[0;36m<module>\u001b[0;34m\u001b[0m\n\u001b[1;32m     25\u001b[0m \u001b[0;31m# Em2 = Employee('jacky', 2000)\u001b[0m\u001b[0;34m\u001b[0m\u001b[0;34m\u001b[0m\u001b[0;34m\u001b[0m\u001b[0m\n\u001b[1;32m     26\u001b[0m \u001b[0;31m# Em1.give_bonus(6000)\u001b[0m\u001b[0;34m\u001b[0m\u001b[0;34m\u001b[0m\u001b[0;34m\u001b[0m\u001b[0m\n\u001b[0;32m---> 27\u001b[0;31m \u001b[0mEm2\u001b[0m\u001b[0;34m\u001b[0m\u001b[0;34m\u001b[0m\u001b[0m\n\u001b[0m",
      "\u001b[0;31mNameError\u001b[0m: name 'Em2' is not defined"
     ]
    }
   ],
   "source": [
    "class SalaryError(ValueError): pass\n",
    "class BonusError(SalaryError): pass\n",
    "\n",
    "class Employee:\n",
    "    MIN_SALARY = 30000\n",
    "    MAX_BONUS = 5000\n",
    "\n",
    "    def __init__(self, name, salary = 30000):\n",
    "        self.name = name    \n",
    "        if salary < Employee.MIN_SALARY:\n",
    "            raise SalaryError(\"Salary is too low!\")      \n",
    "        self.salary = salary\n",
    "    \n",
    "  # Rewrite using exceptions  \n",
    "    def give_bonus(self, amount):\n",
    "        if amount > Employee.MAX_BONUS:\n",
    "            raise BonusError(\"The bonus amount is too high!\")  \n",
    "        \n",
    "        elif self.salary + amount <  Employee.MIN_SALARY:\n",
    "            raise SalaryError(\"The salary after bonus is too low!\")\n",
    "      \n",
    "        else:  \n",
    "            self.salary += amount\n",
    "        \n",
    "# Em2 = Employee('jacky', 2000)\n",
    "# Em1.give_bonus(6000)\n",
    "Em2"
   ]
  },
  {
   "cell_type": "markdown",
   "id": "0517cb2d",
   "metadata": {},
   "source": [
    "#### 3.3.3 如果在exception 并排放，会有顺序优先级差异。子exception最好放在父exception之前，因为子exception更细更容易发现错误细节 It's better to list the except blocks in the increasing order of specificity, i.e. children before parents, otherwise the child exception will be called in the parent except block."
   ]
  },
  {
   "cell_type": "code",
   "execution_count": 24,
   "id": "2ca61765",
   "metadata": {},
   "outputs": [
    {
     "name": "stdout",
     "output_type": "stream",
     "text": [
      "SalaryError caught\n"
     ]
    }
   ],
   "source": [
    "\n",
    "emp = Employee(\"Katze Rik\",\\\n",
    "                    50000)\n",
    "try:\n",
    "    emp.give_bonus(7000)\n",
    "except SalaryError:\n",
    "    print(\"SalaryError caught\")\n",
    "except BonusError:\n",
    "    print(\"BonusError caught\")"
   ]
  },
  {
   "cell_type": "code",
   "execution_count": 25,
   "id": "d7ba2932",
   "metadata": {},
   "outputs": [
    {
     "name": "stdout",
     "output_type": "stream",
     "text": [
      "BonusError caught\n"
     ]
    }
   ],
   "source": [
    "emp = Employee(\"Katze Rik\",\\\n",
    "                    50000)\n",
    "try:\n",
    "    emp.give_bonus(7000)\n",
    "except BonusError:\n",
    "    print(\"BonusError caught\")\n",
    "except SalaryError:\n",
    "    print(\"SalaryError caught\")\n",
    "      "
   ]
  },
  {
   "cell_type": "markdown",
   "id": "f8b6e7d2",
   "metadata": {},
   "source": [
    "### 3.3.4 如果exception 是分开运行，则没有顺序优先差异，只有父子exception层级差异，父优先与子"
   ]
  },
  {
   "cell_type": "code",
   "execution_count": 26,
   "id": "1f41f6da",
   "metadata": {},
   "outputs": [
    {
     "name": "stdout",
     "output_type": "stream",
     "text": [
      "SalaryError caught!\n",
      "BonusError caught!\n",
      "SalaryError caught again!\n"
     ]
    },
    {
     "ename": "SalaryError",
     "evalue": "The salary after bonus is too low!",
     "output_type": "error",
     "traceback": [
      "\u001b[0;31m---------------------------------------------------------------------------\u001b[0m",
      "\u001b[0;31mSalaryError\u001b[0m                               Traceback (most recent call last)",
      "\u001b[0;32m<ipython-input-26-38adf3484985>\u001b[0m in \u001b[0;36m<module>\u001b[0;34m\u001b[0m\n\u001b[1;32m     16\u001b[0m \u001b[0;34m\u001b[0m\u001b[0m\n\u001b[1;32m     17\u001b[0m \u001b[0;32mtry\u001b[0m\u001b[0;34m:\u001b[0m\u001b[0;34m\u001b[0m\u001b[0;34m\u001b[0m\u001b[0m\n\u001b[0;32m---> 18\u001b[0;31m     \u001b[0memp\u001b[0m\u001b[0;34m.\u001b[0m\u001b[0mgive_bonus\u001b[0m\u001b[0;34m(\u001b[0m\u001b[0;34m-\u001b[0m\u001b[0;36m100000\u001b[0m\u001b[0;34m)\u001b[0m\u001b[0;34m\u001b[0m\u001b[0;34m\u001b[0m\u001b[0m\n\u001b[0m\u001b[1;32m     19\u001b[0m \u001b[0;32mexcept\u001b[0m \u001b[0mBonusError\u001b[0m\u001b[0;34m:\u001b[0m\u001b[0;34m\u001b[0m\u001b[0;34m\u001b[0m\u001b[0m\n\u001b[1;32m     20\u001b[0m     \u001b[0mprint\u001b[0m\u001b[0;34m(\u001b[0m\u001b[0;34m\"BonusError caught again!\"\u001b[0m\u001b[0;34m)\u001b[0m\u001b[0;34m\u001b[0m\u001b[0;34m\u001b[0m\u001b[0m\n",
      "\u001b[0;32m<ipython-input-23-d35b1556621a>\u001b[0m in \u001b[0;36mgive_bonus\u001b[0;34m(self, amount)\u001b[0m\n\u001b[1;32m     18\u001b[0m \u001b[0;34m\u001b[0m\u001b[0m\n\u001b[1;32m     19\u001b[0m         \u001b[0;32melif\u001b[0m \u001b[0mself\u001b[0m\u001b[0;34m.\u001b[0m\u001b[0msalary\u001b[0m \u001b[0;34m+\u001b[0m \u001b[0mamount\u001b[0m \u001b[0;34m<\u001b[0m  \u001b[0mEmployee\u001b[0m\u001b[0;34m.\u001b[0m\u001b[0mMIN_SALARY\u001b[0m\u001b[0;34m:\u001b[0m\u001b[0;34m\u001b[0m\u001b[0;34m\u001b[0m\u001b[0m\n\u001b[0;32m---> 20\u001b[0;31m             \u001b[0;32mraise\u001b[0m \u001b[0mSalaryError\u001b[0m\u001b[0;34m(\u001b[0m\u001b[0;34m\"The salary after bonus is too low!\"\u001b[0m\u001b[0;34m)\u001b[0m\u001b[0;34m\u001b[0m\u001b[0;34m\u001b[0m\u001b[0m\n\u001b[0m\u001b[1;32m     21\u001b[0m \u001b[0;34m\u001b[0m\u001b[0m\n\u001b[1;32m     22\u001b[0m         \u001b[0;32melse\u001b[0m\u001b[0;34m:\u001b[0m\u001b[0;34m\u001b[0m\u001b[0;34m\u001b[0m\u001b[0m\n",
      "\u001b[0;31mSalaryError\u001b[0m: The salary after bonus is too low!"
     ]
    }
   ],
   "source": [
    "emp = Employee(\"Katze Rik\", salary=50000)\n",
    "try:\n",
    "    emp.give_bonus(7000)\n",
    "except SalaryError:\n",
    "    print(\"SalaryError caught!\")\n",
    "\n",
    "try:\n",
    "    emp.give_bonus(7000)\n",
    "except BonusError:\n",
    "    print(\"BonusError caught!\")\n",
    "\n",
    "try:\n",
    "    emp.give_bonus(-100000)\n",
    "except SalaryError:\n",
    "    print(\"SalaryError caught again!\")\n",
    "\n",
    "try:\n",
    "    emp.give_bonus(-100000)\n",
    "except BonusError:\n",
    "    print(\"BonusError caught again!\")  "
   ]
  },
  {
   "cell_type": "markdown",
   "id": "ca91fe9c",
   "metadata": {},
   "source": [
    "# 4.0 Polymorphism"
   ]
  },
  {
   "cell_type": "markdown",
   "id": "10012595",
   "metadata": {},
   "source": [
    " \n",
    "# 4.1 private attributes \n",
    "\n",
    "#### The single leading underscore is a convention for internal details of implementation. Double leading underscores are used for attributes that should not be inherited to aviod name clashes in child classes. Finally, leading and trailing double underscores are reserved for built-in methods.\n",
    "#### The single underscore naming convention is purely a convention, and Python doesn't do anything special with such attributes and methods behind the scenes. That convention is widely followed, though, so if you see an attribute name with one leading underscore in someone's class - don't use it! The class developer trusts you with this responsibility. 单个下划线是一个Python命名约定，表示这个名称是供内部使用的。 它通常不由Python解释器强制执行，仅仅作为一种对程序员的提示。不限制访问，只是起警示作用，程序员说：不要用它。"
   ]
  },
  {
   "cell_type": "code",
   "execution_count": 27,
   "id": "87a2a5e3",
   "metadata": {},
   "outputs": [
    {
     "name": "stdout",
     "output_type": "stream",
     "text": [
      "True\n",
      "False\n"
     ]
    }
   ],
   "source": [
    "# Add class attributes for max number of days and months\n",
    "class BetterDate:\n",
    "    _MAX_DAYS = 30\n",
    "    _MAX_MONTHS = 12\n",
    "    \n",
    "    def __init__(self, year, month, day):\n",
    "        self.year, self.month, self.day = year, month, day\n",
    "        \n",
    "    @classmethod\n",
    "    def from_str(cls, datestr):\n",
    "        year, month, day = map(int, datestr.split(\"-\"))\n",
    "        return cls(year, month, day)\n",
    "    \n",
    "    # Add _is_valid() checking day and month values\n",
    "    def _is_valid(self):\n",
    "        return self.day <= BetterDate._MAX_DAYS and self.month <= BetterDate._MAX_MONTHS\n",
    "    \n",
    "bd1 = BetterDate(2020, 4, 30)\n",
    "print(bd1._is_valid())\n",
    "\n",
    "bd2 = BetterDate(2020, 6, 45)\n",
    "print(bd2._is_valid())\n"
   ]
  },
  {
   "cell_type": "markdown",
   "id": "544732ed",
   "metadata": {},
   "source": [
    "# 4.3 property\n",
    "\n",
    "#### 控制attributes的输入，例如控制不输入负数改变原有正确数值\n",
    "#### 4歩：1._attr, 设计内部属性，2. @property 定义属性， 3。@attr.setter 篡改属性value，4.并在@attr.setter 下定义控制输入条件"
   ]
  },
  {
   "cell_type": "code",
   "execution_count": 29,
   "id": "5e18c99a",
   "metadata": {},
   "outputs": [
    {
     "name": "stdout",
     "output_type": "stream",
     "text": [
      "2000\n",
      "Setter method called\n",
      "3000\n"
     ]
    }
   ],
   "source": [
    "class Customer:\n",
    "    def __init__(self, name, new_bal):\n",
    "        self.name = name\n",
    "        if new_bal < 0:\n",
    "            raise ValueError(\"Invalid balance!\")\n",
    "        else:\n",
    "            self._balance = new_bal  \n",
    "\n",
    "    # Add a decorated balance() method returning _balance  \n",
    "    @property\n",
    "    def balance(self):\n",
    "        return self._balance\n",
    "\n",
    "    # Add a setter balance() method 可以给予attributes 赋值能力，并通过函数定义\n",
    "    @balance.setter\n",
    "    def balance(self, new_bal):\n",
    "        # Validate the parameter value\n",
    "        if new_bal < 0:\n",
    "            raise ValueError(\"Invalid balance!\")\n",
    "        else:\n",
    "            self._balance = new_bal\n",
    "        print(\"Setter method called\")\n",
    "\n",
    "# Create a Customer        \n",
    "cust = Customer('Belinda Lutz', 2000)\n",
    "\n",
    "print(cust.balance)\n",
    "\n",
    "# Assign 3000 to the balance property\n",
    "cust.balance = 3000\n",
    "\n",
    "# Print the balance property\n",
    "print(cust.balance)"
   ]
  },
  {
   "cell_type": "code",
   "execution_count": null,
   "id": "72fd03a6",
   "metadata": {},
   "outputs": [],
   "source": [
    "# 只有@property就会成为只读模式"
   ]
  },
  {
   "cell_type": "code",
   "execution_count": 30,
   "id": "8506e4e8",
   "metadata": {},
   "outputs": [
    {
     "name": "stdout",
     "output_type": "stream",
     "text": [
      "2000\n"
     ]
    },
    {
     "ename": "AttributeError",
     "evalue": "can't set attribute",
     "output_type": "error",
     "traceback": [
      "\u001b[0;31m---------------------------------------------------------------------------\u001b[0m",
      "\u001b[0;31mAttributeError\u001b[0m                            Traceback (most recent call last)",
      "\u001b[0;32m<ipython-input-30-a3afa139e3e5>\u001b[0m in \u001b[0;36m<module>\u001b[0;34m\u001b[0m\n\u001b[1;32m     18\u001b[0m \u001b[0;34m\u001b[0m\u001b[0m\n\u001b[1;32m     19\u001b[0m \u001b[0;31m# Assign 3000 to the balance property\u001b[0m\u001b[0;34m\u001b[0m\u001b[0;34m\u001b[0m\u001b[0;34m\u001b[0m\u001b[0m\n\u001b[0;32m---> 20\u001b[0;31m \u001b[0mcust\u001b[0m\u001b[0;34m.\u001b[0m\u001b[0mbalance\u001b[0m \u001b[0;34m=\u001b[0m \u001b[0;36m3000\u001b[0m\u001b[0;34m\u001b[0m\u001b[0;34m\u001b[0m\u001b[0m\n\u001b[0m\u001b[1;32m     21\u001b[0m \u001b[0;34m\u001b[0m\u001b[0m\n\u001b[1;32m     22\u001b[0m \u001b[0;31m# Print the balance property\u001b[0m\u001b[0;34m\u001b[0m\u001b[0;34m\u001b[0m\u001b[0;34m\u001b[0m\u001b[0m\n",
      "\u001b[0;31mAttributeError\u001b[0m: can't set attribute"
     ]
    }
   ],
   "source": [
    "class Customer:\n",
    "    def __init__(self, name, new_bal):\n",
    "        self.name = name\n",
    "        if new_bal < 0:\n",
    "            raise ValueError(\"Invalid balance!\")\n",
    "        else:\n",
    "            self._balance = new_bal  \n",
    "\n",
    "    # Add a decorated balance() method returning _balance  \n",
    "    @property\n",
    "    def balance(self):\n",
    "        return self._balance\n",
    "    \n",
    "# Create a Customer        \n",
    "cust = Customer('Belinda Lutz', 2000)\n",
    "\n",
    "print(cust.balance)\n",
    "\n",
    "# Assign 3000 to the balance property 没有@balance.setter , 只读模式\n",
    "cust.balance = 3000\n",
    "\n",
    "# Print the balance property\n",
    "print(cust.balance)"
   ]
  },
  {
   "cell_type": "code",
   "execution_count": null,
   "id": "35e9607c",
   "metadata": {},
   "outputs": [],
   "source": []
  }
 ],
 "metadata": {
  "kernelspec": {
   "display_name": "Python 3",
   "language": "python",
   "name": "python3"
  },
  "language_info": {
   "codemirror_mode": {
    "name": "ipython",
    "version": 3
   },
   "file_extension": ".py",
   "mimetype": "text/x-python",
   "name": "python",
   "nbconvert_exporter": "python",
   "pygments_lexer": "ipython3",
   "version": "3.6.10"
  }
 },
 "nbformat": 4,
 "nbformat_minor": 5
}
