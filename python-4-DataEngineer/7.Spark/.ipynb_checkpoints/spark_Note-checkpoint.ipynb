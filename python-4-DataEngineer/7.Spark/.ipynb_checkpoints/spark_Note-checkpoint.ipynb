{
 "cells": [
  {
   "cell_type": "markdown",
   "id": "b3da3b3c",
   "metadata": {},
   "source": [
    "# 1.1 cluster connection\n",
    "\n",
    "### Creating the connection is as simple as creating an instance of the SparkContext class. \n",
    "### An object holding all these attributes can be created with the SparkConf() constructor ---For configuring Spark.. \n",
    "spark官方文档：\n",
    "https://spark.apache.org/docs/2.1.0/api/python/pyspark.html\n",
    "\n",
    "Spark has under its hood are designed for complicated operations with big data sets. 有些情况比一般计算可能更慢，因为spark主要处理的是大数据复杂计算。"
   ]
  },
  {
   "cell_type": "markdown",
   "id": "1e9ffa41",
   "metadata": {},
   "source": [
    "### Spark's core data structure is the Resilient Distributed Dataset (RDD). This is a low level object that lets Spark work its magic by splitting data across multiple nodes in the cluster. However, RDDs are hard to work with directly, so in this course you'll be using the Spark DataFrame abstraction built on top of RDDs.\n",
    "\n",
    "## To start working with Spark DataFrames, you first have to create a SparkSession object from your SparkContext. You can think of the SparkContext as your connection to the cluster and the SparkSession as your interface with that connection.\n",
    "\n",
    "### Creating multiple SparkSessions and SparkContexts can cause issues, so it's best practice to use the SparkSession.builder.getOrCreate() method. This returns an existing SparkSession if there's already one in the environment, or creates a new one if necessary!\n"
   ]
  },
  {
   "cell_type": "code",
   "execution_count": null,
   "id": "c82af429",
   "metadata": {},
   "outputs": [],
   "source": [
    "# Import SparkSession from pyspark.sql\n",
    "from pyspark.sql import SparkSession\n",
    "\n",
    "# Create my_spark\n",
    "my_spark = SparkSession.builder.getOrCreate()\n",
    "\n",
    "# Print my_spark\n",
    "print(my_spark)"
   ]
  }
 ],
 "metadata": {
  "kernelspec": {
   "display_name": "Python 3",
   "language": "python",
   "name": "python3"
  },
  "language_info": {
   "codemirror_mode": {
    "name": "ipython",
    "version": 3
   },
   "file_extension": ".py",
   "mimetype": "text/x-python",
   "name": "python",
   "nbconvert_exporter": "python",
   "pygments_lexer": "ipython3",
   "version": "3.6.10"
  }
 },
 "nbformat": 4,
 "nbformat_minor": 5
}
