{
 "cells": [
  {
   "cell_type": "markdown",
   "id": "b3da3b3c",
   "metadata": {},
   "source": [
    "# 1.1 cluster connection\n",
    "\n",
    "### Creating the connection is as simple as creating an instance of the SparkContext class. \n",
    "### An object holding all these attributes can be created with the SparkConf() constructor ---For configuring Spark.. \n",
    "spark官方文档：\n",
    "https://spark.apache.org/docs/2.1.0/api/python/pyspark.html\n",
    "\n",
    "Spark has under its hood are designed for complicated operations with big data sets. 有些情况比一般计算可能更慢，因为spark主要处理的是大数据复杂计算。"
   ]
  },
  {
   "cell_type": "markdown",
   "id": "1e9ffa41",
   "metadata": {},
   "source": [
    "### Spark's core data structure is the Resilient Distributed Dataset (RDD). This is a low level object that lets Spark work its magic by splitting data across multiple nodes in the cluster. However, RDDs are hard to work with directly, so in this course you'll be using the Spark DataFrame abstraction built on top of RDDs.\n",
    "\n",
    "## To start working with Spark DataFrames, you first have to create a SparkSession object from your SparkContext. You can think of the SparkContext as your connection to the cluster and the SparkSession as your interface with that connection.\n",
    "\n",
    "### Creating multiple SparkSessions and SparkContexts can cause issues, so it's best practice to use the SparkSession.builder.getOrCreate() method. This returns an existing SparkSession if there's already one in the environment, or creates a new one if necessary!\n"
   ]
  },
  {
   "cell_type": "code",
   "execution_count": null,
   "id": "c82af429",
   "metadata": {},
   "outputs": [],
   "source": [
    "# Import SparkSession from pyspark.sql\n",
    "from pyspark.sql import SparkSession\n",
    "\n",
    "# Create my_spark\n",
    "my_spark = SparkSession.builder.getOrCreate()\n",
    "\n",
    "# Print my_spark\n",
    "print(my_spark)"
   ]
  },
  {
   "cell_type": "markdown",
   "id": "106527a5",
   "metadata": {},
   "source": [
    "Your SparkSession has an attribute called catalog which lists all the data inside the cluster. This attribute has a few methods for extracting different pieces of information.\n",
    "\n",
    "One of the most useful is the .listTables() method, which returns the names of all the tables in your cluster as a list."
   ]
  },
  {
   "cell_type": "code",
   "execution_count": null,
   "id": "0ced3fe0",
   "metadata": {},
   "outputs": [],
   "source": [
    "# Print the tables in the catalog\n",
    "print(spark.catalog.listTables())"
   ]
  },
  {
   "cell_type": "markdown",
   "id": "c5cc6238",
   "metadata": {},
   "source": [
    "Running a query on this table is as easy as using the .sql() method on your SparkSession. This method takes a string containing the query and returns a DataFrame with the results!"
   ]
  },
  {
   "cell_type": "code",
   "execution_count": null,
   "id": "a2a2e82a",
   "metadata": {},
   "outputs": [],
   "source": [
    "# Don't change this query\n",
    "query = \"FROM flights SELECT * LIMIT 10\"\n",
    "\n",
    "# Get the first 10 rows of flights\n",
    "flights10 = spark.sql(query) \n",
    "\n",
    "# Show the results\n",
    "flights10.show()"
   ]
  },
  {
   "cell_type": "markdown",
   "id": "671769b3",
   "metadata": {},
   "source": [
    "# Pandafy a Spark DataFrame\n",
    "\n",
    "#### Sometimes it makes sense to then take that table and work with it locally using a tool like pandas. Spark DataFrames make that easy with the .toPandas() method. Calling this method on a Spark DataFrame returns the corresponding pandas DataFrame."
   ]
  },
  {
   "cell_type": "code",
   "execution_count": null,
   "id": "a3fb11f1",
   "metadata": {},
   "outputs": [],
   "source": [
    "# Don't change this query\n",
    "query = \"SELECT origin, dest, COUNT(*) as N FROM flights GROUP BY origin, dest\"\n",
    "\n",
    "# Run the query\n",
    "flight_counts = spark.sql(query)\n",
    "\n",
    "# Convert the results to a pandas DataFrame\n",
    "pd_counts = flight_counts.toPandas()\n",
    "\n",
    "# Print the head of pd_counts\n",
    "print(pd_counts.head())"
   ]
  },
  {
   "cell_type": "markdown",
   "id": "d73c6dbd",
   "metadata": {},
   "source": [
    "# Put some Spark in your data\n",
    "\n",
    "### put a pandas DataFrame into a Spark cluster! The SparkSession class has a method for this as well.\n",
    "\n",
    "## The .createDataFrame() method takes a pandas DataFrame and returns a Spark DataFrame. \n",
    "\n",
    "### The output of this method is stored locally, not in the SparkSession catalog. This means that you can use all the Spark DataFrame methods on it, but you can't access the data in other contexts.\n",
    "\n",
    "For example, a SQL query (using the .sql() method) that references your DataFrame will throw an error. To access the data in this way, you have to save it as a temporary table.\n",
    "\n",
    "You can do this using the .createTempView() Spark DataFrame method, which takes as its only argument the name of the temporary table you'd like to register. This method registers the DataFrame as a table in the catalog, but as this table is temporary, it can only be accessed from the specific SparkSession used to create the Spark DataFrame.\n",
    "\n",
    "There is also the method .createOrReplaceTempView(). This safely creates a new temporary table if nothing was there before, or updates an existing table if one was already defined. You'll use this method to avoid running into problems with duplicate tables.\n",
    "\n",
    "<img src='spark_data_interaction.png' >\n"
   ]
  },
  {
   "cell_type": "code",
   "execution_count": null,
   "id": "948f1a35",
   "metadata": {},
   "outputs": [],
   "source": [
    "# Create pd_temp\n",
    "pd_temp = pd.DataFrame(np.random.random(10))\n",
    "\n",
    "# Create spark_temp from pd_temp\n",
    "spark_temp = spark.createDataFrame(pd_temp)\n",
    "\n",
    "# Examine the tables in the catalog ==>还不会有新建的dataFrame在catalog里，其它context不能查看新建的dataFrame\n",
    "print(spark.catalog.listTables())\n",
    "\n",
    "# Add spark_temp to the catalog  ==> 使用createOrReplaceTempView('temp') 函数才有table到spark cloud 的catalog中， 第一个参数是新建table名\n",
    "spark_temp.createOrReplaceTempView('temp')\n",
    "\n",
    "# Examine the tables in the catalog again\n",
    "print(spark.catalog.listTables())"
   ]
  },
  {
   "cell_type": "markdown",
   "id": "ef3fcc30",
   "metadata": {},
   "source": [
    "# 以上方法是将data Frame数据上传到spark cloud中，也可以用.read()读取TXT，CSV文档\n",
    "\n",
    "### your SparkSession has a .read attribute which has several methods for reading different data sources into Spark DataFrames."
   ]
  },
  {
   "cell_type": "code",
   "execution_count": null,
   "id": "31175be2",
   "metadata": {},
   "outputs": [],
   "source": [
    "# Don't change this file path\n",
    "file_path = \"/usr/local/share/datasets/airports.csv\"\n",
    "\n",
    "# Read in the airports data\n",
    "airports = spark.read.csv(file_path, header=True)\n",
    "\n",
    "# Show the data\n",
    "airports.show()"
   ]
  },
  {
   "cell_type": "markdown",
   "id": "63803c5e",
   "metadata": {},
   "source": [
    "# 2.1 Creating columns\n",
    "\n",
    "## .withColumn()\n",
    "\n",
    "Let's look at performing column-wise operations. In Spark you can do this using the .withColumn() method, which takes two arguments. First, a string with the name of your new column, and second the new column itself.\n",
    "\n",
    "The new column must be an object of class Column. Creating one of these is as easy as extracting a column from your DataFrame using df.colName."
   ]
  },
  {
   "cell_type": "code",
   "execution_count": null,
   "id": "ffb749df",
   "metadata": {},
   "outputs": [],
   "source": [
    "# Create the DataFrame flights\n",
    "flights = spark.table(\"flights\")\n",
    "\n",
    "# Show the head\n",
    "flights.show() \n",
    "\n",
    "# Add duration_hrs\n",
    "flights = flights.withColumn('duration_hrs', flights.air_time / 60)\n",
    "\n",
    "flights.show() "
   ]
  },
  {
   "cell_type": "markdown",
   "id": "eb4effd2",
   "metadata": {},
   "source": [
    "# 2.2 filtering data \n",
    "\n",
    "#### Let's take a look at the .filter() method. As you might suspect, this is the Spark counterpart of SQL's WHERE clause. The .filter() method takes either an expression that would follow the WHERE clause of a SQL expression as a string, or a Spark Column of boolean (True/False) values.\n",
    "\n",
    "For example, the following two expressions will produce the same output:\n",
    "\n",
    "### flights.filter(\"air_time > 120\").show()         #filter string 类似sql 的where 操作,返回数值\n",
    "\n",
    "### flights.filter(flights.air_time > 120).show()       #filter nonstring, 返回 bool 值， TRUE or FALSE\n",
    "\n",
    "Notice that in the first case, we pass a string to .filter(). In SQL, we would write this filtering task as SELECT * FROM flights WHERE air_time > 120. Spark's .filter() can accept any expression that could go in the WHEREclause of a SQL query (in this case, \"air_time > 120\"), as long as it is passed as a string. Notice that in this case, we do not reference the name of the table in the string -- as we wouldn't in the SQL request.\n",
    "\n",
    "In the second case, we actually pass a column of boolean values to .filter(). Remember that flights.air_time > 120 returns a column of boolean values that has True in place of those records in flights.air_time that are over 120, and False otherwise.\n",
    "\n"
   ]
  },
  {
   "cell_type": "markdown",
   "id": "2144ad9f",
   "metadata": {},
   "source": [
    "# 2.3 select\n",
    "\n",
    "#### The difference between .select() and .withColumn() methods is that .select() returns only the columns you specify, while .withColumn() returns all the columns of the DataFrame in addition to the one you defined. It's often a good idea to drop columns you don't need at the beginning of an operation so that you're not dragging around extra data as you're wrangling. In this case, you would use .select() and not .withColumn()."
   ]
  },
  {
   "cell_type": "code",
   "execution_count": null,
   "id": "d6b31c36",
   "metadata": {},
   "outputs": [],
   "source": [
    "# Select the first set of columns\n",
    "selected1 = flights.select(\"tailnum\", \"origin\", \"dest\")\n",
    "\n",
    "# Select the second set of columns\n",
    "temp = flights.select(flights.origin, flights.dest, flights.carrier)\n",
    "\n",
    "# Define first filter\n",
    "filterA = flights.origin == \"SEA\"\n",
    "\n",
    "# Define second filter\n",
    "filterB = flights.dest == \"PDX\"\n",
    "\n",
    "# Filter the data, first by filterA then by filterB\n",
    "selected2 = temp.filter(filterA).filter(filterB)"
   ]
  },
  {
   "cell_type": "markdown",
   "id": "cee65d46",
   "metadata": {},
   "source": [
    "# 2.4 select II 对列表进行操作并重命名\n",
    "\n",
    "Similar to SQL, you can also use the .select() method to perform column-wise operations. When you're selecting a column using the df.colName notation, you can perform any column operation and the .select() method will return the transformed column. For example,\n",
    "\n",
    "#### flights.select(flights.air_time/60)\n",
    "\n",
    "returns a column of flight durations in hours instead of minutes. You can also use the .alias() method to rename a column you're selecting. So if you wanted to .select() the column duration_hrs (which isn't in your DataFrame) you could do\n",
    "\n",
    "#### flights.select((flights.air_time/60).alias(\"duration_hrs\"))\n",
    "\n",
    "The equivalent Spark DataFrame method .selectExpr() takes SQL expressions as a string:\n",
    "\n",
    "#### flights.selectExpr(\"air_time/60 as duration_hrs\")\n",
    "\n",
    "with the SQL as keyword being equivalent to the .alias() method. To select multiple columns, you can pass multiple strings."
   ]
  },
  {
   "cell_type": "code",
   "execution_count": null,
   "id": "0582ac99",
   "metadata": {},
   "outputs": [],
   "source": [
    "# Define avg_speed\n",
    "avg_speed = (flights.distance/(flights.air_time/60)).alias(\"avg_speed\")\n",
    "\n",
    "# Select the correct columns\n",
    "speed1 = flights.select(\"origin\", \"dest\", \"tailnum\", avg_speed)\n",
    "\n",
    "# Create the same table using a SQL expression\n",
    "speed2 = flights.selectExpr(\"origin\", \"dest\", \"tailnum\", \"distance/(air_time/60) as avg_speed\")"
   ]
  },
  {
   "cell_type": "markdown",
   "id": "7bdfdac3",
   "metadata": {},
   "source": [
    "# 2.5 Aggregating\n",
    "\n",
    "All of the common aggregation methods, like .min(), .max(), and .count() are GroupedData methods. These are created by calling the .groupBy() DataFrame method. You'll learn exactly what that means in a few exercises. For now, all you have to do to use these functions is call that method on your DataFrame. For example, to find the minimum value of a column, col, in a DataFrame, df, you could do\n",
    "\n",
    "### df.groupBy().min(\"col\").show()\n",
    "\n",
    "This creates a GroupedData object (so you can use the .min() method), then finds the minimum value in col, and returns it as a DataFrame."
   ]
  },
  {
   "cell_type": "code",
   "execution_count": null,
   "id": "02add667",
   "metadata": {},
   "outputs": [],
   "source": [
    "# Find the shortest flight from PDX in terms of distance\n",
    "flights.filter(flights.origin == 'PDX').groupBy().min('distance').show()\n",
    " \n",
    "\n",
    "# Find the longest flight from SEA in terms of air time\n",
    "flights.filter(flights.origin == 'SEA').groupBy().max('air_time').show()\n",
    "\n",
    "# Average duration of Delta flights\n",
    "flights.filter(flights.carrier == \"DL\").filter(flights.origin == \"SEA\").groupBy().avg(\"air_time\").show()\n",
    "\n",
    "# Total hours in the air\n",
    "flights.withColumn(\"duration_hrs\", flights.air_time/60).groupBy().sum(\"duration_hrs\").show()\n",
    "\n",
    "#group by 特定列\n",
    "by_plane = flights.groupBy(\"tailnum\")\n",
    "\n",
    "# Number of flights each plane made\n",
    "by_plane.count().show()\n",
    "\n",
    "# Group by origin\n",
    "by_origin = flights.groupBy(\"origin\")\n",
    "\n",
    "# Average duration of flights from PDX and SEA\n",
    "by_origin.avg(\"air_time\").show()"
   ]
  },
  {
   "cell_type": "markdown",
   "id": "c11b631f",
   "metadata": {},
   "source": [
    "# 2.6 aggregation II 聚合统计standard deviation\n",
    "\n",
    "### .agg(调用pyspark.sql.functions 模块.中的聚合函数）\n",
    "\n",
    "### 例如：import pyspark.sql.functions as F \n",
    "### by_month_dest.agg(F.stddev('dep_delay'))\n",
    "\n",
    "In addition to the GroupedData methods you've already seen, there is also the .agg() method. This method lets you pass an aggregate column expression that uses any of the aggregate functions from the pyspark.sql.functions submodule.\n",
    "\n",
    "This submodule contains many useful functions for computing things like standard deviations. All the aggregation functions in this submodule take the name of a column in a GroupedData table.\n"
   ]
  },
  {
   "cell_type": "code",
   "execution_count": null,
   "id": "e7b0bf4d",
   "metadata": {},
   "outputs": [],
   "source": [
    "# Import pyspark.sql.functions as F\n",
    "import pyspark.sql.functions as F\n",
    "\n",
    "# Group by month and dest\n",
    "by_month_dest = flights.groupBy('month', 'dest')\n",
    "\n",
    "# Average departure delay by month and destination\n",
    "by_month_dest.avg('dep_delay').show()\n",
    "\n",
    "# Standard deviation of departure delay\n",
    "by_month_dest.agg(F.stddev('dep_delay')).show()"
   ]
  },
  {
   "cell_type": "markdown",
   "id": "242eb890",
   "metadata": {},
   "source": [
    "# 2.7 join\n",
    "\n",
    "##  flights.join(airports, on = 'dest', how = 'leftouter')\n",
    "\n",
    "#### 列重命名，第一个参数旧列名，第二个参数新列名\n",
    "#### airports.withColumnRenamed(\"faa\", \"dest\")"
   ]
  },
  {
   "cell_type": "code",
   "execution_count": null,
   "id": "730d62c5",
   "metadata": {},
   "outputs": [],
   "source": [
    "# Examine the data\n",
    "print(airports.show())\n",
    "\n",
    "# Rename the faa column\n",
    "airports = airports.withColumnRenamed(\"faa\", \"dest\")\n",
    "\n",
    "# Join the DataFrames\n",
    "flights_with_airports = flights.join(airports, on = 'dest', how = 'leftouter')\n",
    "\n",
    "# Examine the new DataFrame\n",
    "print(flights_with_airports.show())"
   ]
  },
  {
   "cell_type": "markdown",
   "id": "54e1f6c7",
   "metadata": {},
   "source": [
    "# 3.0 Machine Learning Pipelines\n",
    "\n",
    "At the core of the pyspark.ml module are the **Transformer** and **Estimator** classes. Almost every other class in the module behaves similarly to these two basic classes.\n",
    "\n",
    "Transformer classes have a .transform() method that takes a DataFrame and returns a new DataFrame; usually the original one with a new column appended. For example, you might use the class Bucketizer to create discrete bins from a continuous feature or the class PCA to reduce the dimensionality of your dataset using principal component analysis.\n",
    "\n",
    "Estimator classes all implement a .fit() method. These methods also take a DataFrame, but instead of returning another DataFrame they return a model object. This can be something like a StringIndexerModel for including categorical data saved as strings in your models, or a RandomForestModel that uses the random forest algorithm for classification or regression."
   ]
  },
  {
   "cell_type": "markdown",
   "id": "2fcfa1a5",
   "metadata": {},
   "source": [
    "### 3.1 In the next two chapters you'll be working tobuild a model that predicts whether or not a flight will be delayed based on the flights data we've been working with. "
   ]
  },
  {
   "cell_type": "markdown",
   "id": "58491efd",
   "metadata": {},
   "source": [
    "# 3.2 spark datatype\n",
    " Before you get started modeling, it's important to know that **Spark only handles numeric data**. That means all of the columns in your DataFrame must be either **integers or decimals (called 'doubles' in Spark).\n",
    " \n",
    " When we imported our data, we let Spark guess what kind of information each column held. Unfortunately, Spark doesn't always guess right and you can see that some of the columns in our DataFrame are strings containing numbers as opposed to actual numeric values.\n",
    "\n",
    "To remedy this, you can use the **.cast()** method in combination with the .withColumn() method. It's important to note that .cast() works on columns, while .withColumn() works on DataFrames.\n",
    "\n",
    "**dataframe = dataframe.withColumn(\"col\", dataframe.col.cast(\"new_type\"))\n",
    "\n",
    "The only argument you need to pass to .cast() is the kind of value you want to create, in string form. For example, to create integers, you'll **pass the argument \"integer\" and for decimal numbers you'll use \"double\""
   ]
  },
  {
   "cell_type": "code",
   "execution_count": null,
   "id": "e5390440",
   "metadata": {},
   "outputs": [],
   "source": [
    "# Cast the columns to integers\n",
    "model_data = model_data.withColumn(\"arr_delay\", model_data.arr_delay.cast('integer'))\n",
    "model_data = model_data.withColumn(\"air_time\", model_data.air_time.cast('integer'))\n",
    "model_data = model_data.withColumn(\"month\", model_data.month.cast('integer'))\n",
    "model_data = model_data.withColumn(\"plane_year\", model_data.plane_year.cast('integer'))"
   ]
  },
  {
   "cell_type": "code",
   "execution_count": null,
   "id": "2367c828",
   "metadata": {},
   "outputs": [],
   "source": [
    "# Create the column plane_age\n",
    "model_data = model_data.withColumn(\"plane_age\", model_data.year - model_data.plane_year)\n"
   ]
  },
  {
   "cell_type": "markdown",
   "id": "270fed07",
   "metadata": {},
   "source": [
    "# 3.3 Making a Boolean\n",
    "\n",
    "#### >,<,=写判断条件，返回TRUE or FALSE，cast('integer')转化bool，TRUE为1，FALSE为0."
   ]
  },
  {
   "cell_type": "code",
   "execution_count": null,
   "id": "0315b05a",
   "metadata": {},
   "outputs": [],
   "source": [
    "# Create is_late\n",
    "model_data = model_data.withColumn(\"is_late\", model_data.arr_delay > 0)\n",
    "\n",
    "# Convert to an integer\n",
    "model_data = model_data.withColumn(\"label\", model_data.is_late.cast('integer'))\n",
    "\n",
    "# Remove missing values\n",
    "model_data = model_data.filter(\"arr_delay is not NULL and dep_delay is not NULL and air_time is not NULL and plane_year is not NULL\")"
   ]
  },
  {
   "cell_type": "markdown",
   "id": "7d8a260f",
   "metadata": {},
   "source": [
    "# 3.4 Strings and factors---spark 用one-hot vectors来处理non-numeric features\n",
    "\n",
    "The first step to encoding your categorical feature is to create a **StringIndexer**. Members of this class are **Estimators** that take a DataFrame with a column of strings and map each unique string to a number. Then, the Estimator returns a Transformer that takes a DataFrame, attaches the mapping to it as metadata, and returns a new DataFrame with a numeric column corresponding to the string column.\n",
    "\n",
    "The second step is to encode this numeric column as a one-hot vector using a **OneHotEncoder**. This works exactly the same way as the StringIndexer by creating an Estimator and then a Transformer. The end result is a column that encodes your categorical feature as a vector that's suitable for machine learning routines!\n",
    "\n",
    "The inputCol is the name of the column you want to index or encode, and the outputCol is the name of the new column that the Transformer should create."
   ]
  },
  {
   "cell_type": "code",
   "execution_count": null,
   "id": "2bb41cc6",
   "metadata": {},
   "outputs": [],
   "source": [
    "# Create a StringIndexer\n",
    "carr_indexer = StringIndexer(inputCol=\"carrier\", outputCol = 'carrier_index')\n",
    "\n",
    "# Create a OneHotEncoder\n",
    "carr_encoder = OneHotEncoder(inputCol = 'carrier_index', outputCol='carrier_fact')\n",
    "\n",
    "# Create a StringIndexer\n",
    "dest_indexer = StringIndexer(inputCol = 'dest' , outputCol = 'dest_index')\n",
    "# Create a OneHotEncoder\n",
    "dest_encoder = OneHotEncoder(inputCol = 'dest_index', outputCol = 'dest_fact')"
   ]
  },
  {
   "cell_type": "markdown",
   "id": "40eb69ee",
   "metadata": {},
   "source": [
    "# 3.5 Assemble a vector\n",
    "\n",
    "The last step in the Pipeline is to combine all of the columns containing our features into a single column. This has to be done before modeling can take place because every Spark modeling routine expects the data to be in this form. You can do this by storing each of the values from a column as an entry in a vector. Then, from the model's point of view, every observation is a vector that contains all of the information about it and a label that tells the modeler what value that observation corresponds to.\n",
    "\n",
    "Because of this, the **pyspark.ml.feature** submodule contains a class called **VectorAssembler**. **This Transformer takes all of the columns you specify and combines them into a new vector column."
   ]
  },
  {
   "cell_type": "code",
   "execution_count": null,
   "id": "23b4a79c",
   "metadata": {},
   "outputs": [],
   "source": [
    "# Make a VectorAssembler\n",
    "vec_assembler = VectorAssembler(inputCols=[\"month\", \"air_time\", \"carrier_fact\", \"dest_fact\", \"plane_age\"], outputCol=\"features\")"
   ]
  },
  {
   "cell_type": "markdown",
   "id": "dc26c06f",
   "metadata": {},
   "source": [
    "# 3.6 Create the pipeline\n",
    "You're finally ready to create a Pipeline!\n",
    "\n",
    "Pipeline is a class in the pyspark.ml module that combines all the Estimators and Transformers that you've already created. This lets you reuse the same modeling process over and over again by wrapping it up in one simple object. Neat, right?"
   ]
  },
  {
   "cell_type": "code",
   "execution_count": null,
   "id": "0be33f35",
   "metadata": {},
   "outputs": [],
   "source": [
    "# Import Pipeline\n",
    "from pyspark.ml import Pipeline \n",
    "\n",
    "# Make the pipeline\n",
    "flights_pipe = Pipeline(stages=[dest_indexer, dest_encoder, carr_indexer, carr_encoder, vec_assembler])"
   ]
  },
  {
   "cell_type": "markdown",
   "id": "16eba1f4",
   "metadata": {},
   "source": [
    "# 3.7 training set and test set 处理\n",
    "\n",
    "Create the DataFrame piped_data by calling the Pipeline methods .fit() and .transform() in a chain. Both of these methods take model_data as their only argument.\n"
   ]
  },
  {
   "cell_type": "code",
   "execution_count": null,
   "id": "23a45b7a",
   "metadata": {},
   "outputs": [],
   "source": [
    "# Fit and transform the data\n",
    "piped_data = flights_pipe.fit(model_data).transform(model_data)"
   ]
  },
  {
   "cell_type": "markdown",
   "id": "8f53c48c",
   "metadata": {},
   "source": [
    "# 3.8 Split the data\n",
    "Now that you've done all your manipulations, the last step before modeling is to split the data!"
   ]
  },
  {
   "cell_type": "code",
   "execution_count": null,
   "id": "f45eb5dd",
   "metadata": {},
   "outputs": [],
   "source": [
    "# Split the data into training and test sets\n",
    "training, test = piped_data.randomSplit([.6,.4])"
   ]
  },
  {
   "cell_type": "markdown",
   "id": "47d32c0f",
   "metadata": {},
   "source": [
    "# 4.1 create the modeler\n",
    "\n",
    "The Estimator you'll be using is a LogisticRegression from the pyspark.ml.classification submodule."
   ]
  },
  {
   "cell_type": "code",
   "execution_count": null,
   "id": "59cfa42b",
   "metadata": {},
   "outputs": [],
   "source": [
    "# Import LogisticRegression\n",
    "from pyspark.ml.classification import LogisticRegression\n",
    "\n",
    "# Create a LogisticRegression Estimator\n",
    "lr = LogisticRegression()"
   ]
  }
 ],
 "metadata": {
  "kernelspec": {
   "display_name": "Python 3",
   "language": "python",
   "name": "python3"
  },
  "language_info": {
   "codemirror_mode": {
    "name": "ipython",
    "version": 3
   },
   "file_extension": ".py",
   "mimetype": "text/x-python",
   "name": "python",
   "nbconvert_exporter": "python",
   "pygments_lexer": "ipython3",
   "version": "3.6.10"
  }
 },
 "nbformat": 4,
 "nbformat_minor": 5
}
