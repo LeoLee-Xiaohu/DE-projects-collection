{
 "cells": [
  {
   "cell_type": "markdown",
   "id": "31945599",
   "metadata": {},
   "source": [
    "# 2.1 context manager 上下文管理器\n",
    "\n",
    "#### 上下文管理器就是实现了上下文管理协议的对象。主要用于保存和恢复各种全局状态，关闭文件等，上下文管理器本身就是一种装饰器。\n",
    "### 被装饰器装饰的函数分为三部分:\n",
    "### with语句中的代码块执行前执行函数中yield之前代码\n",
    "### yield返回的内容复制给as之后的变量\n",
    "### with代码块执行完毕后执行函数中yield之后的代码"
   ]
  },
  {
   "cell_type": "code",
   "execution_count": null,
   "id": "81bdad06",
   "metadata": {},
   "outputs": [],
   "source": [
    "with open(myfile.txt) as myfile:"
   ]
  },
  {
   "cell_type": "markdown",
   "id": "306dec57",
   "metadata": {},
   "source": [
    "# 2.2 write context manager \n",
    "\n",
    "### Notice that *the three elements of a context manager* are all here: a function definition, a yield statement, and the @contextlib.contextmanager decorator.\n",
    "### It's also worth noticing that timer() is a context manager that does not return an explicit value, so yield is written by itself without specifying anything to return."
   ]
  },
  {
   "cell_type": "code",
   "execution_count": 6,
   "id": "a879b332",
   "metadata": {},
   "outputs": [
    {
     "name": "stdout",
     "output_type": "stream",
     "text": [
      "hello\n",
      "foo is 42\n",
      "goodbye\n"
     ]
    }
   ],
   "source": [
    "import contextlib \n",
    "\n",
    "@contextlib.contextmanager\n",
    "def my_context():\n",
    "    print('hello')\n",
    "    yield 42\n",
    "    print('goodbye')\n",
    "    \n",
    "    \n",
    "with my_context() as foo:\n",
    "    print('foo is {}'.format(foo))\n",
    "\n",
    "    \n",
    "# output: \n",
    "# hello\n",
    "# foo is 42\n",
    "# goodbye\n",
    "    "
   ]
  },
  {
   "cell_type": "code",
   "execution_count": 8,
   "id": "d6ab35e5",
   "metadata": {},
   "outputs": [
    {
     "name": "stdout",
     "output_type": "stream",
     "text": [
      "This should take approximately 0.25 seconds\n",
      "Elapsed: 0.26s\n"
     ]
    }
   ],
   "source": [
    "import contextlib \n",
    "import time \n",
    "\n",
    "# Add a decorator that will make timer() a context manager\n",
    "@contextlib.contextmanager\n",
    "def timer():\n",
    "    \"\"\" Time the execution of a context block.\n",
    "\n",
    "      Yields:\n",
    "      None\n",
    "    \"\"\"\n",
    "    start = time.time()\n",
    "  # Send control back to the context block\n",
    "    yield \n",
    "    end = time.time()\n",
    "    print('Elapsed: {:.2f}s'.format(end - start))\n",
    "\n",
    "with timer():\n",
    "    print('This should take approximately 0.25 seconds')\n",
    "    time.sleep(0.25)"
   ]
  },
  {
   "cell_type": "markdown",
   "id": "eba054cd",
   "metadata": {},
   "source": [
    "## 2.3.1 nested context "
   ]
  },
  {
   "cell_type": "code",
   "execution_count": null,
   "id": "b62e712f",
   "metadata": {},
   "outputs": [],
   "source": [
    "def copy(src, dst):\n",
    "    \"\"\"Copy the contents of one file to another.\n",
    "  Args:\n",
    "    src (str): File name of the file to be copied.\n",
    "    dst (str): Where to write the new file.\n",
    "   \"\"\"\n",
    "  # Open both files\n",
    "  with open(src) as f_src:\n",
    "    with open(dst, 'w') as f_dst:\n",
    "      # Read and write each line, one at a time\n",
    "      for line in f_src:\n",
    "        f_dst.write(line)"
   ]
  },
  {
   "cell_type": "markdown",
   "id": "4058c58b",
   "metadata": {},
   "source": [
    "## 2.3.2 handling error \n",
    "\n",
    "#### try: 正常运行一遍\n",
    "#### except: 如有错误显示错误类型\n",
    "#### finally: 使其即使报错也会运行\n"
   ]
  },
  {
   "cell_type": "code",
   "execution_count": 12,
   "id": "bd7e7069",
   "metadata": {},
   "outputs": [],
   "source": [
    "import contextlib \n",
    "\n",
    "@contextlib.contextmanager\n",
    "def in_dir(directory):\n",
    "    \"\"\"Change current working directory to `directory`,\n",
    "    allow the user to run some code, and change back.\n",
    "\n",
    "    Args:\n",
    "      directory (str): The path to a directory to work in.\n",
    "  \"\"\"\n",
    "    current_dir = os.getcwd()\n",
    "    os.chdir(directory)\n",
    "\n",
    "  # Add code that lets you handle errors\n",
    "    try:\n",
    "        yield\n",
    "  # Ensure the directory is reset,\n",
    "  # whether there was an error or not\n",
    "    finally:\n",
    "        os.chdir(current_dir)"
   ]
  },
  {
   "cell_type": "markdown",
   "id": "7faebc31",
   "metadata": {},
   "source": [
    "# 3.3.1 Nested function"
   ]
  },
  {
   "cell_type": "markdown",
   "id": "c6d6c251",
   "metadata": {},
   "source": [
    "# 3.3.2 scope\n",
    "### globale, nonlocal"
   ]
  },
  {
   "cell_type": "markdown",
   "id": "d71d42e9",
   "metadata": {},
   "source": [
    "# 3.3.3 closure\n",
    "\n",
    "Python中怎么创建闭包\n",
    " \n",
    "\n",
    "在Python中创建一个闭包可以归结为以下三点：\n",
    "\n",
    "闭包函数必须有内嵌函数\n",
    "内嵌函数需要引用该嵌套函数上一级中的变量\n",
    "闭包函数必须返回内嵌函数\n",
    "通过这三点，就可以创建一个闭包"
   ]
  },
  {
   "cell_type": "code",
   "execution_count": 23,
   "id": "3bec4246",
   "metadata": {},
   "outputs": [
    {
     "name": "stdout",
     "output_type": "stream",
     "text": [
      "Morining! Huang\n",
      "Morining! Lee\n",
      "Afternoon! Jacky\n",
      "Morining!\n"
     ]
    },
    {
     "data": {
      "text/plain": [
       "'Afternoon!'"
      ]
     },
     "execution_count": 23,
     "metadata": {},
     "output_type": "execute_result"
    }
   ],
   "source": [
    "def hi(greet):\n",
    "    def who(name):\n",
    "        print(greet, name)\n",
    "    return who\n",
    "    \n",
    "hi1 = hi('Morining!')\n",
    "\n",
    "hi1('Huang')\n",
    "\n",
    "hi1\n",
    "\n",
    "hi1('Lee')\n",
    "hi1\n",
    "\n",
    "hi2 = hi('Afternoon!')\n",
    "hi2('Jacky')\n",
    "print(hi1.__closure__[0].cell_contents)\n",
    "hi2.__closure__[0].cell_contents"
   ]
  },
  {
   "cell_type": "markdown",
   "id": "7c90199f",
   "metadata": {},
   "source": [
    "##### you can modify, delete, or overwrite the values needed by the nested function, but the nested function can still access those values because they are stored safely in the function's closure. "
   ]
  },
  {
   "cell_type": "code",
   "execution_count": 32,
   "id": "cc011d19",
   "metadata": {},
   "outputs": [
    {
     "name": "stdout",
     "output_type": "stream",
     "text": [
      "You are running my_special_function()\n"
     ]
    }
   ],
   "source": [
    "\n",
    "def my_special_function():\n",
    "    print('You are running my_special_function()')\n",
    "    \n",
    "def  get_new_func(func):\n",
    "    def call_func():\n",
    "        func()\n",
    "    return call_func\n",
    "\n",
    "new_func = get_new_func(my_special_function)\n",
    "\n",
    "# Delete my_special_function()\n",
    "del my_special_function\n",
    "\n",
    "new_func()"
   ]
  },
  {
   "cell_type": "code",
   "execution_count": 33,
   "id": "cea63cf5",
   "metadata": {},
   "outputs": [
    {
     "name": "stdout",
     "output_type": "stream",
     "text": [
      "You are running my_special_function()\n"
     ]
    }
   ],
   "source": [
    "def my_special_function():\n",
    "    print('You are running my_special_function()')\n",
    "    \n",
    "def  get_new_func(func):\n",
    "    def call_func():\n",
    "        func()\n",
    "    return call_func\n",
    "\n",
    "new_func = get_new_func(my_special_function)\n",
    "\n",
    "# 重新定义， closure还是储存原来的原来的函数\n",
    "def my_special_function():\n",
    "    print('Hi')\n",
    "\n",
    "new_func()    "
   ]
  },
  {
   "cell_type": "markdown",
   "id": "11489f60",
   "metadata": {},
   "source": [
    "# 3.3.4 decorators \n",
    "### is a wrapper that can play aound a function that change the function's behavior, such as change the function and its input/output. 装饰器把function作为一个argument，返回modified version of that function。"
   ]
  },
  {
   "cell_type": "code",
   "execution_count": 35,
   "id": "989f7615",
   "metadata": {},
   "outputs": [
    {
     "data": {
      "text/plain": [
       "20"
      ]
     },
     "execution_count": 35,
     "metadata": {},
     "output_type": "execute_result"
    }
   ],
   "source": [
    "\n",
    "@double_args\n",
    "def multiply(a, b):\n",
    "    return a * b\n",
    "\n",
    "multiply(1, 5)"
   ]
  },
  {
   "cell_type": "code",
   "execution_count": 36,
   "id": "d4be88c2",
   "metadata": {},
   "outputs": [
    {
     "data": {
      "text/plain": [
       "20"
      ]
     },
     "execution_count": 36,
     "metadata": {},
     "output_type": "execute_result"
    }
   ],
   "source": [
    "# 以上装饰器相当于以下代码操作过程\n",
    "def double_args(func):\n",
    "    def wrapper(a, b):\n",
    "        return func(a * 2, b * 2)\n",
    "    return wrapper\n",
    "\n",
    "def multiply(a,b):\n",
    "    return a * b\n",
    "\n",
    "multiply_new = double_args(multiply)\n",
    "multiply_new(1, 5)"
   ]
  },
  {
   "cell_type": "code",
   "execution_count": 44,
   "id": "3f11e7d8",
   "metadata": {},
   "outputs": [
    {
     "name": "stdout",
     "output_type": "stream",
     "text": [
      "Before multiply\n",
      "50\n",
      "After multiply\n"
     ]
    }
   ],
   "source": [
    "def print_before_and_after(func):\n",
    "    def wrapper(*args):\n",
    "        print('Before {}'.format(func.__name__))\n",
    "    # Call the function being decorated with *args\n",
    "        func(*args)\n",
    "        print('After {}'.format(func.__name__))\n",
    "  # Return the nested function\n",
    "    return wrapper \n",
    "\n",
    "#@print_before_and_after, \n",
    "# 装饰器相当于nested function 将新function对象赋给nested function（真正的需要修饰的function作为参数）,\n",
    "# 然后再给新function对象传入参数，得到修饰后的结果\n",
    "def multiply(a, b):\n",
    "    print(a * b)\n",
    "\n",
    "#print(multiply(5, 10))\n",
    "\n",
    "multipy_new = print_before_and_after(multiply)\n",
    "multipy_new(5, 10)"
   ]
  },
  {
   "cell_type": "code",
   "execution_count": 70,
   "id": "06c37d66",
   "metadata": {},
   "outputs": [
    {
     "name": "stdout",
     "output_type": "stream",
     "text": [
      "Before multiply\n",
      "50\n",
      "After multiply\n"
     ]
    }
   ],
   "source": [
    "def print_before_and_after(func):\n",
    "    def wrapper(*args):\n",
    "        print('Before {}'.format(func.__name__))\n",
    "    # Call the function being decorated with *args\n",
    "        func(*args)\n",
    "        print('After {}'.format(func.__name__))\n",
    "  # Return the nested function\n",
    "    return wrapper \n",
    "\n",
    "@print_before_and_after\n",
    "def multiply(a, b):\n",
    "    print(a * b)\n",
    "\n",
    "multiply(5, 10)"
   ]
  },
  {
   "cell_type": "markdown",
   "id": "62d26da2",
   "metadata": {},
   "source": [
    "# 4.0 real-life decorators"
   ]
  },
  {
   "cell_type": "markdown",
   "id": "a247d955",
   "metadata": {},
   "source": [
    "## 4.1"
   ]
  },
  {
   "cell_type": "code",
   "execution_count": 55,
   "id": "75ecfa30",
   "metadata": {},
   "outputs": [
    {
     "name": "stdout",
     "output_type": "stream",
     "text": [
      "calling foo()\n",
      "calling foo()\n"
     ]
    }
   ],
   "source": [
    "def foo():\n",
    "    print('calling foo()')\n",
    "\n",
    "foo()\n",
    "foo()"
   ]
  },
  {
   "cell_type": "code",
   "execution_count": 58,
   "id": "cb203d94",
   "metadata": {},
   "outputs": [
    {
     "name": "stdout",
     "output_type": "stream",
     "text": [
      "calling foo()\n",
      "calling foo()\n",
      "foo() was called 2 times.\n"
     ]
    }
   ],
   "source": [
    "def counter(func):\n",
    "    def wrapper(*args, **kwargs):\n",
    "        wrapper.count += 1\n",
    "    # Call the function being decorated and return the result\n",
    "        return func\n",
    "    wrapper.count = 0\n",
    "  # Return the new decorated function\n",
    "    return wrapper\n",
    "\n",
    "# Decorate foo() with the counter() decorator\n",
    "@counter\n",
    "def foo():\n",
    "    print('calling foo()')\n",
    "\n",
    "foo()\n",
    "foo()\n",
    "\n",
    "print('foo() was called {} times.'.format(foo.count))"
   ]
  },
  {
   "cell_type": "markdown",
   "id": "28f2bc3d",
   "metadata": {},
   "source": [
    "##  4.2 decorators and metadata\n",
    "#### One of the problems with decorators is that they obscure the decorated function's metadata.\n",
    "#### from functools import wraps 并在def wrapper 前加@wraps(func)修饰器，就可以显示decorated functions's metadata.\n",
    "#### func.__wrapped__ 获取decorated function的功能"
   ]
  },
  {
   "cell_type": "code",
   "execution_count": 76,
   "id": "36ddd08c",
   "metadata": {},
   "outputs": [
    {
     "name": "stdout",
     "output_type": "stream",
     "text": [
      "Hi\n",
      "3\n",
      "wrapper\n",
      "None\n"
     ]
    }
   ],
   "source": [
    "def calcu_hi(func):\n",
    "    def wrapper(*args, **kwargs):\n",
    "        print('Hi')\n",
    "        func(*args, **kwargs)\n",
    "    return wrapper\n",
    "\n",
    "@calcu_hi\n",
    "def add(a, b):\n",
    "    '''TO print sum.'''\n",
    "    print(a + b)\n",
    "\n",
    "add(1,2) \n",
    "print(add.__name__)       #打印出来的是wrapper，而不是decorated function 的名字\n",
    "print(add.__doc__)         #无法打印decorated function的doc文件"
   ]
  },
  {
   "cell_type": "markdown",
   "id": "3f8d87fd",
   "metadata": {},
   "source": [
    "#### 问题解决办法"
   ]
  },
  {
   "cell_type": "code",
   "execution_count": 87,
   "id": "9f8d178a",
   "metadata": {},
   "outputs": [
    {
     "name": "stdout",
     "output_type": "stream",
     "text": [
      "Hi\n",
      "3\n",
      "add\n",
      "TO print sum.\n",
      "3\n"
     ]
    }
   ],
   "source": [
    "from functools import wraps    #1.引入wraps\n",
    "\n",
    "def calcu_hi(func):\n",
    "    @wraps(func)    # 在wrapper上添加wraps(func)装饰器\n",
    "    def wrapper(*args, **kwargs):\n",
    "        print('Hi')\n",
    "        func(*args, **kwargs)\n",
    "    return wrapper\n",
    "\n",
    "@calcu_hi\n",
    "def add(a, b):\n",
    "    '''TO print sum.'''\n",
    "    print(a + b)\n",
    "\n",
    "add(1,2) \n",
    "print(add.__name__)       \n",
    "print(add.__doc__)         \n",
    "\n",
    "origin_add = add.__wrapped__(1,2)   #运行original function，没有修饰部分了，没有hi了\n"
   ]
  },
  {
   "cell_type": "markdown",
   "id": "61476112",
   "metadata": {},
   "source": [
    "# 3.3 decorator 加上参数\n",
    "\n",
    "#### 重复运行n次，示例：\n"
   ]
  },
  {
   "cell_type": "code",
   "execution_count": 93,
   "id": "8059cb7a",
   "metadata": {},
   "outputs": [
    {
     "name": "stdout",
     "output_type": "stream",
     "text": [
      "3\n",
      "3\n",
      "3\n"
     ]
    }
   ],
   "source": [
    "def run_n_times(n):\n",
    "    \"\"\"Define and return a decorator\"\"\"\n",
    "    def decorator(func):\n",
    "        def wrapper(*args, **kwargs):\n",
    "            for i in range(n):\n",
    "                func(*args, **kwargs)\n",
    "        return wrapper\n",
    "    return decorator\n",
    "\n",
    "run_three_times = run_n_times(3)\n",
    "\n",
    "@run_three_times\n",
    "def print_sum(a, b):\n",
    "    print(a + b)\n",
    "\n",
    "    \n",
    "@run_n_times(3)\n",
    "def print_sum2(a, b):\n",
    "    print(a + b)\n",
    "    \n",
    "    \n",
    "print_sum2(1,2)"
   ]
  },
  {
   "cell_type": "code",
   "execution_count": 94,
   "id": "5883e0ff",
   "metadata": {},
   "outputs": [
    {
     "name": "stdout",
     "output_type": "stream",
     "text": [
      "<b>Hello Alice!</b>\n",
      "<i>Goodbye Alice.</i>\n",
      "<div>\n",
      "<b>Hello Alice!</b>\n",
      "<i>Goodbye Alice.</i>\n",
      "</div>\n"
     ]
    }
   ],
   "source": [
    "def html(open_tag, close_tag):\n",
    "    def decorator(func):\n",
    "        @wraps(func)\n",
    "        def wrapper(*args, **kwargs):\n",
    "            msg = func(*args, **kwargs)\n",
    "            return '{}{}{}'.format(open_tag, msg, close_tag)\n",
    "    # Return the decorated function\n",
    "        return wrapper\n",
    "  # Return the decorator\n",
    "    return decorator\n",
    "\n",
    "# Make hello() return bolded text\n",
    "@html('<b>', '</b>')\n",
    "def hello(name):\n",
    "    return 'Hello {}!'.format(name)\n",
    "  \n",
    "print(hello('Alice'))\n",
    "\n",
    "# Make goodbye() return italicized text\n",
    "@html('<i>', '</i>')\n",
    "def goodbye(name):\n",
    "    return 'Goodbye {}.'.format(name)\n",
    "  \n",
    "print(goodbye('Alice'))\n",
    "\n",
    "# Wrap the result of hello_goodbye() in <div> and </div>\n",
    "@html('<div>','</div>')\n",
    "def hello_goodbye(name):\n",
    "    return '\\n{}\\n{}\\n'.format(hello(name), goodbye(name))\n",
    "  \n",
    "print(hello_goodbye('Alice'))"
   ]
  },
  {
   "cell_type": "markdown",
   "id": "0e18180d",
   "metadata": {},
   "source": [
    "# 3.4 case-decorator in realworld"
   ]
  },
  {
   "cell_type": "markdown",
   "id": "e87cd8fb",
   "metadata": {},
   "source": [
    "### 实例1：检查函数返回的类型是否是要求的类型"
   ]
  },
  {
   "cell_type": "code",
   "execution_count": 99,
   "id": "9ba18386",
   "metadata": {},
   "outputs": [
    {
     "name": "stdout",
     "output_type": "stream",
     "text": [
      "add() did not return a string!\n"
     ]
    }
   ],
   "source": [
    "def returnFc_type(give_type):\n",
    "    def decorator(func):\n",
    "        def wrapper(*args, **kwags):\n",
    "            result = func(*args, **kwags)\n",
    "            assert type(result) == give_type\n",
    "            return func(*args, **kwags)\n",
    "        return wrapper\n",
    "    return decorator\n",
    "\n",
    "@returnFc_type(str)\n",
    "def add(a, b):\n",
    "    return(a+b)\n",
    "\n",
    "try:\n",
    "    add(1,2)\n",
    "except AssertionError:\n",
    "    print('add() did not return a string!')"
   ]
  },
  {
   "cell_type": "markdown",
   "id": "d2c56570",
   "metadata": {},
   "source": [
    "### 实例2：给函数加上分类标签"
   ]
  },
  {
   "cell_type": "code",
   "execution_count": 104,
   "id": "ab1c0b7a",
   "metadata": {},
   "outputs": [
    {
     "name": "stdout",
     "output_type": "stream",
     "text": [
      "('test', 'this is a tag')\n"
     ]
    }
   ],
   "source": [
    "def tag(*tags):\n",
    "  # Define a new decorator, named \"decorator\", to return\n",
    "    def decorator(func):\n",
    "    # Ensure the decorated function keeps its metadata\n",
    "        @wraps(func)\n",
    "        def wrapper(*args, **kwargs):\n",
    "      # Call the function being decorated and return the result\n",
    "          return func(*args, **kwargs)\n",
    "        wrapper.tags = tags\n",
    "        return wrapper\n",
    "  # Return the new decorator\n",
    "    return decorator\n",
    "\n",
    "@tag('test', 'this is a tag')\n",
    "def foo():\n",
    "    pass\n",
    "\n",
    "print(foo.tags)"
   ]
  }
 ],
 "metadata": {
  "kernelspec": {
   "display_name": "Python 3",
   "language": "python",
   "name": "python3"
  },
  "language_info": {
   "codemirror_mode": {
    "name": "ipython",
    "version": 3
   },
   "file_extension": ".py",
   "mimetype": "text/x-python",
   "name": "python",
   "nbconvert_exporter": "python",
   "pygments_lexer": "ipython3",
   "version": "3.6.10"
  }
 },
 "nbformat": 4,
 "nbformat_minor": 5
}
