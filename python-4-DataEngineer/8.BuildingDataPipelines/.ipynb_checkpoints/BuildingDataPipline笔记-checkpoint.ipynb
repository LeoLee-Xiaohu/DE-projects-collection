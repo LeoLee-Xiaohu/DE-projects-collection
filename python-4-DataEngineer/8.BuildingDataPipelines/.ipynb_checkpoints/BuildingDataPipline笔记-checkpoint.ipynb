{
 "cells": [
  {
   "cell_type": "markdown",
   "id": "d21c0638",
   "metadata": {},
   "source": [
    "## 1.3.2 Communicating with an API"
   ]
  },
  {
   "cell_type": "code",
   "execution_count": null,
   "id": "8370fbdc",
   "metadata": {},
   "outputs": [],
   "source": [
    "endpoint = \"http://localhost:5000\"\n",
    "\n",
    "# Fill in the correct API key\n",
    "api_key = \"scientist007\"\n",
    "\n",
    "# Create the web API’s URL\n",
    "authenticated_endpoint = \"{}/{}\".format(endpoint, api_key)\n",
    "\n",
    "# Get the web API’s reply to the endpoint\n",
    "api_response = requests.get(authenticated_endpoint).json()\n",
    "pprint.pprint(api_response)\n",
    "\n",
    "# Create the API’s endpoint for the shops\n",
    "shops_endpoint = \"{}/{}/{}/{}\".format(endpoint, api_key, \"diaper/api/v1.0\", \"shops\")\n",
    "shops = requests.get(shops_endpoint).json()\n",
    "print(shops)\n",
    "\n",
    "# Create the API’s endpoint for items of the shop starting with a \"D\"\n",
    "items_of_specific_shop_URL = \"{}/{}/{}/{}/{}\".format(endpoint, api_key, \"diaper/api/v1.0\", \"items\", \"DM\")\n",
    "products_of_shop = requests.get(items_of_specific_shop_URL).json()\n",
    "pprint.pprint(products_of_shop)"
   ]
  },
  {
   "cell_type": "markdown",
   "id": "368dcf23",
   "metadata": {},
   "source": [
    "Good job! APIs are one way of making data available to you. With the booming Internet of Things (IoT), web APIs have become more prevalent, so it’s essential to know how to interact with them and thus get data into your data lake this way."
   ]
  },
  {
   "cell_type": "markdown",
   "id": "fb109853",
   "metadata": {},
   "source": [
    "## 1.3.3 Streaming records"
   ]
  },
  {
   "cell_type": "code",
   "execution_count": null,
   "id": "a6354182",
   "metadata": {},
   "outputs": [],
   "source": [
    "# Use the convenience function to query the API\n",
    "tesco_items = retrieve_products(\"Tesco\")\n",
    "\n",
    "singer.write_schema(stream_name=\"products\", schema=schema,\n",
    "                    key_properties=[])\n",
    "\n",
    "# Write a single record to the stream, that adheres to the schema\n",
    "singer.write_record(stream_name=\"products\", \n",
    "                    record={**tesco_items[0], \"store_name\": \"Tesco\"})\n",
    "\n",
    "for shop in requests.get(SHOPS_URL).json()[\"shops\"]:\n",
    "    # Write all of the records that you retrieve from the API\n",
    "    singer.write_records(\n",
    "      stream_name=\"products\", # Use the same stream name that you used in the schema\n",
    "      records=({**tesco_items[0], \"store_name\": shop}\n",
    "               for item in retrieve_products(shop))\n",
    "    )    "
   ]
  },
  {
   "cell_type": "markdown",
   "id": "05467d26",
   "metadata": {},
   "source": [
    "Using generators like you did in this exercise is a great way of keeping the memory footprint low, which is especially important when you are dealing with a lot of data."
   ]
  },
  {
   "cell_type": "markdown",
   "id": "9fecd356",
   "metadata": {},
   "source": [
    "## 1.3.4 Chain taps and targets\n",
    "#### 输出目标格式的提取的数据 tap =》 extract data"
   ]
  },
  {
   "cell_type": "code",
   "execution_count": null,
   "id": "418e5af6",
   "metadata": {},
   "outputs": [],
   "source": [
    "tap-marketing-api | target-csv --config ingest/data_lake.conf"
   ]
  },
  {
   "cell_type": "markdown",
   "id": "604f6ab5",
   "metadata": {},
   "source": [
    "#### tap什么API | target输出格式 --config config文件所在文件夹位置"
   ]
  }
 ],
 "metadata": {
  "kernelspec": {
   "display_name": "Python 3",
   "language": "python",
   "name": "python3"
  },
  "language_info": {
   "codemirror_mode": {
    "name": "ipython",
    "version": 3
   },
   "file_extension": ".py",
   "mimetype": "text/x-python",
   "name": "python",
   "nbconvert_exporter": "python",
   "pygments_lexer": "ipython3",
   "version": "3.6.10"
  }
 },
 "nbformat": 4,
 "nbformat_minor": 5
}
