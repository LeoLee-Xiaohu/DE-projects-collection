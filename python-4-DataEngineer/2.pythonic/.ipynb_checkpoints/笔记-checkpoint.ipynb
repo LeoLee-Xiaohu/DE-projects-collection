{
 "cells": [
  {
   "cell_type": "markdown",
   "id": "deb0b01e",
   "metadata": {},
   "source": [
    "## 1.1.1 range（）"
   ]
  },
  {
   "cell_type": "code",
   "execution_count": 1,
   "id": "e2a1623e",
   "metadata": {},
   "outputs": [
    {
     "name": "stdout",
     "output_type": "stream",
     "text": [
      "range(0, 5)\n",
      "[0, 1, 2, 3, 4]\n",
      "[1, 3, 5, 7, 9]\n",
      "<class 'list'>\n"
     ]
    }
   ],
   "source": [
    "nums = range(5)\n",
    "print(nums)\n",
    "nums\n",
    "nums_list = list(nums)\n",
    "print(nums_list)\n",
    "nums_list2 = [*range(1,11,2)]\n",
    "print(nums_list2)\n",
    "print(type(nums_list2))\n"
   ]
  },
  {
   "cell_type": "code",
   "execution_count": 20,
   "id": "d4470618",
   "metadata": {},
   "outputs": [
    {
     "data": {
      "text/plain": [
       "[1, 3]"
      ]
     },
     "execution_count": 20,
     "metadata": {},
     "output_type": "execute_result"
    }
   ],
   "source": [
    "[*range(1,5,2)]"
   ]
  },
  {
   "cell_type": "code",
   "execution_count": 15,
   "id": "860009fd",
   "metadata": {},
   "outputs": [
    {
     "name": "stdout",
     "output_type": "stream",
     "text": [
      "[0, 1, 2, 3, 4]\n"
     ]
    }
   ],
   "source": [
    "l = [*range(5)]\n",
    "print(l)"
   ]
  },
  {
   "cell_type": "markdown",
   "id": "ea46c8be",
   "metadata": {},
   "source": [
    "## 1.1.2 *enumerate()"
   ]
  },
  {
   "cell_type": "code",
   "execution_count": 3,
   "id": "552f76c2",
   "metadata": {},
   "outputs": [
    {
     "name": "stdout",
     "output_type": "stream",
     "text": [
      "[(0, 'Jerry'), (1, 'Kramer'), (2, 'Elaine'), (3, 'George'), (4, 'Newman')]\n",
      "[(0, 'Jerry'), (1, 'Kramer'), (2, 'Elaine'), (3, 'George'), (4, 'Newman')]\n",
      "[(1, 'Jerry'), (2, 'Kramer'), (3, 'Elaine'), (4, 'George'), (5, 'Newman')]\n"
     ]
    }
   ],
   "source": [
    "names = ['Jerry', 'Kramer', 'Elaine', 'George', 'Newman']\n",
    "\n",
    "# Rewrite the for loop to use enumerate\n",
    "indexed_names = []\n",
    "for i,name in enumerate(names):\n",
    "    index_name = (i,name)\n",
    "    indexed_names.append(index_name) \n",
    "print(indexed_names)\n",
    "\n",
    "# Rewrite the above for loop using list comprehension\n",
    "indexed_names_comp = [(i,name) for i,name in enumerate(names)]\n",
    "print(indexed_names_comp)\n",
    "\n",
    "# Unpack an enumerate object with a starting index of one\n",
    "indexed_names_unpack = [*enumerate(names, start = 1)]\n",
    "print(indexed_names_unpack)"
   ]
  },
  {
   "cell_type": "markdown",
   "id": "e8ddf3ea",
   "metadata": {},
   "source": [
    "## 1.1.3 map(function, data)\n",
    "##### 注意map第一个参数function 不能带括号，如以下例子中 str.upper（）要写成 str.upper"
   ]
  },
  {
   "cell_type": "code",
   "execution_count": 79,
   "id": "94579d69",
   "metadata": {},
   "outputs": [
    {
     "name": "stdout",
     "output_type": "stream",
     "text": [
      "<class 'map'>\n",
      "['JERRY', 'KRAMER', 'ELAINE', 'GEORGE', 'NEWMAN']\n"
     ]
    }
   ],
   "source": [
    "names = ['Jerry', 'Kramer', 'Elaine', 'George', 'Newman']\n",
    "# Use map to apply str.upper to each element in names\n",
    "names_map  = map( str.upper, names)\n",
    "\n",
    "# Print the type of the names_map\n",
    "print(type(names_map))\n",
    "\n",
    "# Unpack names_map into a list\n",
    "names_uppercase = [*names_map]\n",
    "\n",
    "# Print the list created above\n",
    "print(names_uppercase)"
   ]
  },
  {
   "cell_type": "markdown",
   "id": "5a3f306a",
   "metadata": {},
   "source": [
    "## 1.2 numpy.array() \n",
    "\n",
    "### list 不能对单个元素直接操作，要写成for loop。而np.array（）可以直接对单个元素进行同一操作，并且元素种类也会统一化\n",
    "broadcasting refers to a numpy array's ability to vectorize operations, so they are performed on all elements of an object at once."
   ]
  },
  {
   "cell_type": "code",
   "execution_count": 5,
   "id": "21aaa5ff",
   "metadata": {},
   "outputs": [
    {
     "name": "stdout",
     "output_type": "stream",
     "text": [
      "[ 6  7  8  9 10]\n",
      "[ 7  8  9 10]\n",
      "[[ 2  4  6  8 10]\n",
      " [12 14 16 18 20]]\n",
      "[[ 1  2  4  4  5]\n",
      " [ 6  7  9  9 10]]\n"
     ]
    }
   ],
   "source": [
    "import numpy as np \n",
    "\n",
    "\n",
    "nums = np.array([[ 1,  2,  3,  4,  5],\n",
    " [ 6,  7 , 8  ,9, 10]])\n",
    "\n",
    "# Print second row of nums\n",
    "print(nums[1,:])\n",
    "\n",
    "# Print all elements of nums that are greater than six\n",
    "print(nums[nums > 6])\n",
    "\n",
    "# Double every element of nums\n",
    "nums_dbl = nums * 2\n",
    "print(nums_dbl)\n",
    "\n",
    "# Replace the third column of nums\n",
    "nums[:,2] = nums[:,2] + 1\n",
    "print(nums)"
   ]
  },
  {
   "cell_type": "code",
   "execution_count": 10,
   "id": "0e2aa6d4",
   "metadata": {},
   "outputs": [
    {
     "name": "stdout",
     "output_type": "stream",
     "text": [
      "[10, 20, 30, 40]\n"
     ]
    }
   ],
   "source": [
    " arrival_times = [*range(10, 50, 10)]\n",
    "\n",
    "print(arrival_times)"
   ]
  },
  {
   "cell_type": "markdown",
   "id": "9c0c6b51",
   "metadata": {},
   "source": [
    "#  2.0 runtime 运行时间\n",
    "\n",
    "## 2.1 examining runtime \n",
    "\n",
    "### magic commands 官方文档 https://ipython.readthedocs.io/en/stable/interactive/magics.html\n",
    "Use %timeit within your IPython console (i.e. not within the script.py window) to compare the runtimes\n",
    "\n",
    "####  %timeit 单行运行时间\n",
    "\n",
    "#### %%timeit 多行运行时间\n",
    "Use %%timeit in your IPython console to compare runtimes between these two approaches. Make sure to press **SHIFT+ENTER** after the magic command to add a new line before writing the code you wish to time. "
   ]
  },
  {
   "cell_type": "code",
   "execution_count": 14,
   "id": "70ab552a",
   "metadata": {},
   "outputs": [
    {
     "name": "stdout",
     "output_type": "stream",
     "text": [
      "52.4 ns ± 0.614 ns per loop (mean ± std. dev. of 7 runs, 10000000 loops each)\n"
     ]
    }
   ],
   "source": [
    "%timeit heroes = ['Batman', 'Superman', 'Wonder Woman']\n"
   ]
  },
  {
   "cell_type": "code",
   "execution_count": 18,
   "id": "3308453f",
   "metadata": {},
   "outputs": [
    {
     "name": "stdout",
     "output_type": "stream",
     "text": [
      "3.14 µs ± 17.6 ns per loop (mean ± std. dev. of 7 runs, 100000 loops each)\n"
     ]
    }
   ],
   "source": [
    "%%timeit \n",
    "heroes = ['Batman', 'Superman', 'Wonder Woman']\n",
    "hts = np.array([188.0, 191.0, 183.0])\n",
    "wts = np.array([ 95.0, 101.0,  74.0])\n"
   ]
  },
  {
   "cell_type": "markdown",
   "id": "37073a10",
   "metadata": {},
   "source": [
    "## 2.2 Code profiling 统计代码function多行运行时间信息\n",
    "\n",
    "必须在shell 中输入一下两段代码\n",
    "#### %load_ext line_profiler\n",
    "####  %lprun -f  function_name function(param1, param2, param3)\n"
   ]
  },
  {
   "cell_type": "code",
   "execution_count": 12,
   "id": "909878dc",
   "metadata": {},
   "outputs": [],
   "source": [
    "heroes = ['Batman', 'Superman', 'Wonder Woman']\n",
    "hts = np.array([188.0, 191.0, 183.0])\n",
    "wts = np.array([ 95.0, 101.0,  74.0])\n",
    "\n",
    "def convert_units(heroes, heights, weights):\n",
    "    new_hts = [ht * 0.39370  for ht in heights]\n",
    "    new_wts = [wt * 2.20462  for wt in weights]\n",
    "    hero_data = {}\n",
    "    for i,hero in enumerate(heroes):\n",
    "        hero_data[hero] = (new_hts[i], new_wts[i])\n",
    "    return hero_data"
   ]
  },
  {
   "cell_type": "code",
   "execution_count": 13,
   "id": "431dd40a",
   "metadata": {},
   "outputs": [],
   "source": [
    "%load_ext line_profiler\n",
    "%lprun -f convert_units convert_units(heroes, hts, wts)"
   ]
  },
  {
   "cell_type": "markdown",
   "id": "93a09476",
   "metadata": {},
   "source": [
    "## 2.3 Memory profiling 统计代码文件内存占用情况\n",
    "\n",
    "#### %load_ext memory_profiler\n",
    "#### %mprun -f convert_units convert_units(heroes, hts, wts)\n",
    "function 必须以文件import 当使用 memory_profiler.\n",
    "\n",
    "例如 查看hero_funcs.py 中convert_units（）的内存使用情况\n",
    "\n",
    "from hero_funcs import convert_units \n",
    "%load_ext memory_profiler\n",
    "%mprun -f convert_units convert_units(heroes, hts, wts)"
   ]
  },
  {
   "cell_type": "markdown",
   "id": "1bcac253",
   "metadata": {},
   "source": [
    "# 3.0 优化代码\n",
    "\n",
    "## 3.1 combinations() 自动计算组合方式\n",
    "\n",
    "#### 从itertools 中导入combinations方法"
   ]
  },
  {
   "cell_type": "code",
   "execution_count": 27,
   "id": "dcb8cb08",
   "metadata": {},
   "outputs": [
    {
     "name": "stdout",
     "output_type": "stream",
     "text": [
      "[('Bug', 'Fire'), ('Bug', 'Ghost'), ('Bug', 'Grass'), ('Bug', 'Water'), ('Fire', 'Ghost'), ('Fire', 'Grass'), ('Fire', 'Water'), ('Ghost', 'Grass'), ('Ghost', 'Water'), ('Grass', 'Water')]\n"
     ]
    }
   ],
   "source": [
    "poke_types = ['Bug', 'Fire', 'Ghost', 'Grass', 'Water']\n",
    "combos = []\n",
    "for x in poke_types:\n",
    "    for y in poke_types:\n",
    "        \n",
    "        if x == y:\n",
    "            continue\n",
    "        if ((x,y) not in combos) & ((y,x) not in combos):\n",
    "            combos.append((x,y))\n",
    "print(combos)\n",
    "\n",
    "## 这种方式运算效率没combinations高"
   ]
  },
  {
   "cell_type": "markdown",
   "id": "18324757",
   "metadata": {},
   "source": [
    "###### combinations优化代码"
   ]
  },
  {
   "cell_type": "code",
   "execution_count": 26,
   "id": "66f3f5df",
   "metadata": {},
   "outputs": [
    {
     "name": "stdout",
     "output_type": "stream",
     "text": [
      "<class 'itertools.combinations'>\n",
      "[('Bug', 'Fire'), ('Bug', 'Ghost'), ('Bug', 'Grass'), ('Bug', 'Water'), ('Fire', 'Ghost'), ('Fire', 'Grass'), ('Fire', 'Water'), ('Ghost', 'Grass'), ('Ghost', 'Water'), ('Grass', 'Water')]\n"
     ]
    }
   ],
   "source": [
    "poke_types = ['Bug', 'Fire', 'Ghost', 'Grass', 'Water']\n",
    "from itertools import combinations\n",
    "combos_obj = combinations(poke_types, 2)\n",
    "print(type(combos_obj))\n",
    "print([*combos_obj])"
   ]
  },
  {
   "cell_type": "markdown",
   "id": "6eb62a19",
   "metadata": {},
   "source": [
    "## 3.2 emliminate loop减少loop的使用\n",
    "\n",
    "#### 用一些减少loop 的函数， 如combinations(), numpy的统计sum()mean()等"
   ]
  },
  {
   "cell_type": "markdown",
   "id": "285690c8",
   "metadata": {},
   "source": [
    "## 3.3 如果非得写loop,遵循一下loop原则\n",
    "\n",
    "#### 1.知道每个loop 的作用\n",
    "#### 2.将一次性计算放在loop下面或外面\n",
    "#### 3.将holistic conversation 放在loop外面\n",
    "#### 4.任何一次性的处理都不应该出现在loop内"
   ]
  },
  {
   "cell_type": "code",
   "execution_count": 32,
   "id": "d35476c7",
   "metadata": {},
   "outputs": [
    {
     "name": "stdout",
     "output_type": "stream",
     "text": [
      "Absol's attack: 130 > average: 69.0!\n",
      "Aron's attack: 70 > average: 69.0!\n"
     ]
    }
   ],
   "source": [
    "#### 例一. 低效的方式loop，一次性计算放在了loop内\n",
    "\n",
    "import numpy as np\n",
    "names = ['Absol', 'Aron', 'Jynx', 'Natu', 'Onix']\n",
    "attacks = np.array([130, 70, 50, 50, 45])\n",
    "for pokemon,attack in zip(names, attacks):\n",
    "    total_attack_avg = attacks.mean()\n",
    "    if attack > total_attack_avg:\n",
    "        print(\"{}'s attack: {} > average: {}!\".format(pokemon, attack, total_attack_avg))"
   ]
  },
  {
   "cell_type": "code",
   "execution_count": 33,
   "id": "b365b5e5",
   "metadata": {},
   "outputs": [
    {
     "name": "stdout",
     "output_type": "stream",
     "text": [
      "Absol's attack: 130 > average: 69.0!\n",
      "Aron's attack: 70 > average: 69.0!\n"
     ]
    }
   ],
   "source": [
    "\n",
    "import numpy as np\n",
    "names = ['Absol', 'Aron', 'Jynx', 'Natu', 'Onix']\n",
    "attacks = np.array([130, 70, 50, 50, 45])\n",
    "\n",
    "total_attack_avg = attacks.mean()        #将一次性计算放在loop外，运算时间提高一倍\n",
    "    \n",
    "for pokemon,attack in zip(names, attacks):\n",
    "    if attack > total_attack_avg:\n",
    "        print(\"{}'s attack: {} > average: {}!\".format(pokemon, attack, total_attack_avg))"
   ]
  },
  {
   "cell_type": "markdown",
   "id": "d258679b",
   "metadata": {},
   "source": [
    "\n",
    "#### 例二. holistic conversation ， 把整体性转化放在loop外面"
   ]
  },
  {
   "cell_type": "code",
   "execution_count": 35,
   "id": "4aab97e5",
   "metadata": {},
   "outputs": [
    {
     "name": "stdout",
     "output_type": "stream",
     "text": [
      "[['Pikachu', False, 1], ['Squirtle', False, 1], ['Articuno', True, 1]]\n"
     ]
    }
   ],
   "source": [
    "names = ['Pikachu', 'Squirtle', 'Articuno']\n",
    "legend_status = [False, False, True]\n",
    "generations = [1, 1, 1]\n",
    "\n",
    "poke_data = []\n",
    "for poke_tuple in zip(names, legend_status, generations):\n",
    "    poke_list = list(poke_tuple)           ## 转化在loop内部进行， 低效\n",
    "    poke_data.append(poke_list)           \n",
    "    \n",
    "print(poke_data)"
   ]
  },
  {
   "cell_type": "code",
   "execution_count": 36,
   "id": "bf54a8f4",
   "metadata": {},
   "outputs": [
    {
     "name": "stdout",
     "output_type": "stream",
     "text": [
      "[('Pikachu', False, 1), ('Squirtle', False, 1), ('Articuno', True, 1)]\n",
      "[['Pikachu', False, 1], ['Squirtle', False, 1], ['Articuno', True, 1]]\n"
     ]
    }
   ],
   "source": [
    " names = ['Pikachu', 'Squirtle', 'Articuno']\n",
    "legend_status = [False, False, True]\n",
    "generations = [1, 1, 1]\n",
    "\n",
    "poke_data_tuples = []\n",
    "for poke_tuple in zip(names, legend_status, generations):\n",
    "    poke_data_tuples.append(poke_tuple)\n",
    "\n",
    "print(poke_data_tuples)\n",
    "poke_data = [*map(list, poke_data_tuples)]  ## 转化在loop外部进行， 更高效\n",
    "print(poke_data)"
   ]
  },
  {
   "cell_type": "markdown",
   "id": "b4742602",
   "metadata": {},
   "source": [
    "# 4.0 choose better iterateor 选择更好的迭代器\n",
    "\n",
    "## 4.1 pdDataFrame.iterrows()\n",
    "Nice work! Since .iterrows() returns each DataFrame row as a tuple of (index, pandas Series) pairs, you can either split this tuple and use the index and row-values separately (as you did with for i,row in pit_df.iterrows()), or you can keep the result of .iterrows() in the tuple form (as you did with for row_tuple in pit_df.iterrows())."
   ]
  },
  {
   "cell_type": "markdown",
   "id": "93b0d8be",
   "metadata": {},
   "source": [
    "## 4.2 pdDataFrame.itertuples()\n",
    "比iterrows()更高效一些，🇺每个行是一个nametuple()\n",
    "Remember, using .itertuples() is just like using .iterrows() except it tends to be faster. You also have to use a dot reference when looking up attributes with .itertuples()."
   ]
  },
  {
   "cell_type": "code",
   "execution_count": 54,
   "id": "95186278",
   "metadata": {},
   "outputs": [
    {
     "name": "stdout",
     "output_type": "stream",
     "text": [
      "Pandas(Index=0, Team='TEX', League='AL', Year=2012, RS=808, RA=707, W=93, G=162, Playoffs=1)\n",
      "Pandas(Index=1, Team='TEX', League='AL', Year=2011, RS=855, RA=677, W=96, G=162, Playoffs=1)\n",
      "Pandas(Index=2, Team='TEX', League='AL', Year=2010, RS=787, RA=687, W=90, G=162, Playoffs=1)\n",
      "Pandas(Index=3, Team='TEX', League='AL', Year=2009, RS=784, RA=740, W=87, G=162, Playoffs=0)\n",
      "Pandas(Index=4, Team='TEX', League='AL', Year=2008, RS=901, RA=967, W=79, G=162, Playoffs=0)\n",
      "0 2012 93\n",
      "0 2012 93\n",
      "1 2011 96\n",
      "1 2011 96\n",
      "2 2010 90\n",
      "2 2010 90\n",
      "3 2009 87\n",
      "4 2008 79\n"
     ]
    }
   ],
   "source": [
    "data = [ \n",
    "['TEX'   ,  'AL',  2012 , 808 , 707 , 93 , 162   ,      1]\n",
    ", ['TEX'   ,  'AL'  ,2011  ,855 , 677 , 96 , 162    ,     1]\n",
    ",  ['TEX' ,    'AL' , 2010,  787 , 687,  90,  162   ,      1]\n",
    ",['TEX'   ,  'AL' , 2009  ,784 , 740  ,87,  162     ,    0]\n",
    ", ['TEX'  ,   'AL'  ,2008 , 901 , 967,  79,  162   ,      0] ]\n",
    "\n",
    "import pandas as pd\n",
    "rangers_df = pd.DataFrame(data, columns= ['Team' ,'League',  'Year' ,  'RS'  , 'RA'  , 'W'   ,'G' , 'Playoffs'])\n",
    "\n",
    "# Loop over the DataFrame and print each row\n",
    "for row_namedtuple in rangers_df.itertuples():\n",
    "    print(row_namedtuple)\n",
    "    \n",
    "    # Loop over the DataFrame and print each row's Index, Year and Wins (W)\n",
    "for row in rangers_df.itertuples():\n",
    "    i = row.Index\n",
    "    year = row.Year\n",
    "    wins = row.W \n",
    "    print(i, year, wins)\n",
    "    \n",
    "    if row.Playoffs == 1:\n",
    "        print(i, year, wins )\n",
    "    \n",
    "    \n",
    "    \n"
   ]
  },
  {
   "cell_type": "code",
   "execution_count": 56,
   "id": "a4b312c1",
   "metadata": {},
   "outputs": [
    {
     "name": "stdout",
     "output_type": "stream",
     "text": [
      "0 2012 93\n",
      "1 2011 96\n",
      "2 2010 90\n"
     ]
    }
   ],
   "source": [
    "data = [ \n",
    "['TEX'   ,  'AL',  2012 , 808 , 707 , 93 , 162   ,      1]\n",
    ", ['TEX'   ,  'AL'  ,2011  ,855 , 677 , 96 , 162    ,     1]\n",
    ",  ['TEX' ,    'AL' , 2010,  787 , 687,  90,  162   ,      1]\n",
    ",['TEX'   ,  'AL' , 2009  ,784 , 740  ,87,  162     ,    0]\n",
    ", ['TEX'  ,   'AL'  ,2008 , 901 , 967,  79,  162   ,      0] ]\n",
    "\n",
    "import pandas as pd\n",
    "rangers_df = pd.DataFrame(data, columns= ['Team' ,'League',  'Year' ,  'RS'  , 'RA'  , 'W'   ,'G' , 'Playoffs'])\n",
    "\n",
    "\n",
    "# Loop over the DataFrame and print each row's Index, Year and Wins (W)\n",
    "for row in rangers_df.itertuples():\n",
    "    i = row.Index\n",
    "    year = row.Year\n",
    "    wins = row.W \n",
    "\n",
    "    \n",
    "    if row.Playoffs == 1:\n",
    "        print(i, year, wins )\n",
    "  \n",
    "  # Check if rangers made Playoffs (1 means yes; 0 means no)\n"
   ]
  },
  {
   "cell_type": "markdown",
   "id": "36624e70",
   "metadata": {},
   "source": [
    "## 4.3 pdDataframe.apply() \n",
    "比迭代的方式更高效 \n",
    "apply() method let's you apply functions to all rows or columns of a DataFrame by specifying an axis.\n",
    "\n",
    "##### .apply() method with a lambda function allows you to apply a function to a DataFrame without the need to write a for loop."
   ]
  },
  {
   "cell_type": "code",
   "execution_count": 63,
   "id": "da51534c",
   "metadata": {},
   "outputs": [
    {
     "name": "stdout",
     "output_type": "stream",
     "text": [
      "RS    4135\n",
      "RA    3778\n",
      "dtype: int64\n"
     ]
    }
   ],
   "source": [
    "data = [ \n",
    "['TEX'   ,  'AL',  2012 , 808 , 707 , 93 , 162   ,      1]\n",
    ", ['TEX'   ,  'AL'  ,2011  ,855 , 677 , 96 , 162    ,     1]\n",
    ",  ['TEX' ,    'AL' , 2010,  787 , 687,  90,  162   ,      1]\n",
    ",['TEX'   ,  'AL' , 2009  ,784 , 740  ,87,  162     ,    0]\n",
    ", ['TEX'  ,   'AL'  ,2008 , 901 , 967,  79,  162   ,      0] ]\n",
    "\n",
    "import pandas as pd\n",
    "rays_df = pd.DataFrame(data, columns= ['Team' ,'League',  'Year' ,  'RS'  , 'RA'  , 'W'   ,'G' , 'Playoffs'])\n",
    "\n",
    "# Gather sum of all columns\n",
    "stat_totals = rays_df[['RS','RA']].apply(sum, axis=0)\n",
    "print(stat_totals)\n"
   ]
  },
  {
   "cell_type": "code",
   "execution_count": 76,
   "id": "fa345a3d",
   "metadata": {},
   "outputs": [
    {
     "name": "stdout",
     "output_type": "stream",
     "text": [
      "Year\n",
      "2012    0.57\n",
      "2011    0.59\n",
      "2010    0.56\n",
      "2009    0.54\n",
      "2008    0.49\n",
      "dtype: float64 \n",
      "\n",
      "     Team League   RS   RA   W    G  Playoffs    WP\n",
      "Year                                               \n",
      "2012  TEX     AL  808  707  93  162         1  0.57\n",
      "2011  TEX     AL  855  677  96  162         1  0.59\n",
      "2010  TEX     AL  787  687  90  162         1  0.56\n",
      "2009  TEX     AL  784  740  87  162         0  0.54\n",
      "2008  TEX     AL  901  967  79  162         0  0.49 \n",
      "\n",
      "     Team League   RS   RA   W    G  Playoffs    WP\n",
      "Year                                               \n",
      "2012  TEX     AL  808  707  93  162         1  0.57\n",
      "2011  TEX     AL  855  677  96  162         1  0.59\n",
      "2010  TEX     AL  787  687  90  162         1  0.56\n",
      "2009  TEX     AL  784  740  87  162         0  0.54\n"
     ]
    }
   ],
   "source": [
    "data = [ \n",
    "['TEX'   ,  'AL',  2012 , 808 , 707 , 93 , 162   ,      1]\n",
    ", ['TEX'   ,  'AL'  ,2011  ,855 , 677 , 96 , 162    ,     1]\n",
    ",  ['TEX' ,    'AL' , 2010,  787 , 687,  90,  162   ,      1]\n",
    ",['TEX'   ,  'AL' , 2009  ,784 , 740  ,87,  162     ,    0]\n",
    ", ['TEX'  ,   'AL'  ,2008 , 901 , 967,  79,  162   ,      0] ]\n",
    "\n",
    "import pandas as pd\n",
    "rays_df = pd.DataFrame(data, columns= ['Team' ,'League', 'Year' ,  'RS'  , 'RA'  , 'W'   ,'G' , 'Playoffs']).set_index(['Year'])\n",
    "\n",
    "\n",
    "def calc_win_perc(wins, games_played):\n",
    "    win_perc = wins / games_played\n",
    "    return np.round(win_perc,2)\n",
    "\n",
    "# Create a win percentage Series \n",
    "win_percs = rays_df.apply(lambda row: calc_win_perc(row['W'], row[\"G\"]), axis=1)\n",
    "print(win_percs, '\\n')\n",
    "\n",
    "# Append a new column to dbacks_df\n",
    "rays_df['WP'] = win_percs\n",
    "print(rays_df, '\\n')\n",
    "\n",
    "# Display dbacks_df where WP is greater than 0.50\n",
    "print(rays_df[rays_df['WP'] >= 0.50])"
   ]
  },
  {
   "cell_type": "markdown",
   "id": "fc5991ac",
   "metadata": {},
   "source": [
    "## 4.4使用numpy广播的性质，不用loop进行计算，比apply还高效\n",
    "\n",
    "#### DataFrame['column_name1'].values都可以计算列与列之间的加减乘除和自定义function"
   ]
  },
  {
   "cell_type": "code",
   "execution_count": 78,
   "id": "f9e7cf0d",
   "metadata": {},
   "outputs": [
    {
     "name": "stdout",
     "output_type": "stream",
     "text": [
      "[0.57 0.59 0.56 0.54 0.49] \n",
      "\n",
      "     Team League   RS   RA   W    G  Playoffs    WP\n",
      "Year                                               \n",
      "2012  TEX     AL  808  707  93  162         1  0.57\n",
      "2011  TEX     AL  855  677  96  162         1  0.59\n",
      "2010  TEX     AL  787  687  90  162         1  0.56\n",
      "2009  TEX     AL  784  740  87  162         0  0.54\n",
      "2008  TEX     AL  901  967  79  162         0  0.49 \n",
      "\n"
     ]
    }
   ],
   "source": [
    "data = [ \n",
    "['TEX'   ,  'AL',  2012 , 808 , 707 , 93 , 162   ,      1]\n",
    ", ['TEX'   ,  'AL'  ,2011  ,855 , 677 , 96 , 162    ,     1]\n",
    ",  ['TEX' ,    'AL' , 2010,  787 , 687,  90,  162   ,      1]\n",
    ",['TEX'   ,  'AL' , 2009  ,784 , 740  ,87,  162     ,    0]\n",
    ", ['TEX'  ,   'AL'  ,2008 , 901 , 967,  79,  162   ,      0] ]\n",
    "\n",
    "import pandas as pd\n",
    "rays_df = pd.DataFrame(data, columns= ['Team' ,'League', 'Year' ,  'RS'  , 'RA'  , 'W'   ,'G' , 'Playoffs']).set_index(['Year'])\n",
    "\n",
    "\n",
    "def calc_win_perc(wins, games_played):\n",
    "    win_perc = wins / games_played\n",
    "    return np.round(win_perc,2)\n",
    "\n",
    "# Create a win percentage Series 结果与上小节apply（）一样，但运行速度更快\n",
    "win_percs = calc_win_perc(rays_df['W'].values, rays_df['G'].values)\n",
    "print(win_percs, '\\n')\n",
    "\n",
    "# Append a new column to dbacks_df\n",
    "rays_df['WP'] = win_percs\n",
    "print(rays_df, '\\n')\n"
   ]
  }
 ],
 "metadata": {
  "kernelspec": {
   "display_name": "Python 3",
   "language": "python",
   "name": "python3"
  },
  "language_info": {
   "codemirror_mode": {
    "name": "ipython",
    "version": 3
   },
   "file_extension": ".py",
   "mimetype": "text/x-python",
   "name": "python",
   "nbconvert_exporter": "python",
   "pygments_lexer": "ipython3",
   "version": "3.6.10"
  }
 },
 "nbformat": 4,
 "nbformat_minor": 5
}
