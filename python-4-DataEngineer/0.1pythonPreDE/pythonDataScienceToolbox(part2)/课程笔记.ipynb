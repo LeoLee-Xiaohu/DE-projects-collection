{
 "cells": [
  {
   "attachments": {},
   "cell_type": "markdown",
   "id": "15c72902",
   "metadata": {},
   "source": [
    "# 1.1 iterators\n",
    "## 通过iter() 将iterables转化为iterator, 用 next() 产生iterator的value \n",
    "iterables 包括 lists, strings, dictionaries, file connections"
   ]
  },
  {
   "cell_type": "code",
   "execution_count": 2,
   "id": "3751c880",
   "metadata": {},
   "outputs": [
    {
     "ename": "SyntaxError",
     "evalue": "unexpected character after line continuation character (<ipython-input-2-e830bce6260b>, line 13)",
     "output_type": "error",
     "traceback": [
      "\u001b[0;36m  File \u001b[0;32m\"<ipython-input-2-e830bce6260b>\"\u001b[0;36m, line \u001b[0;32m13\u001b[0m\n\u001b[0;31m    print(\\n next(superhero))\u001b[0m\n\u001b[0m                             ^\u001b[0m\n\u001b[0;31mSyntaxError\u001b[0m\u001b[0;31m:\u001b[0m unexpected character after line continuation character\n"
     ]
    }
   ],
   "source": [
    "# Create a list of strings: flash\n",
    "flash = ['jay garrick', 'barry allen', 'wally west', 'bart allen']\n",
    "\n",
    "# Print each list item in flash using a for loop\n",
    "for f in flash:\n",
    "    print(f)\n",
    "\n",
    "\n",
    "# Create an iterator for flash: superhero\n",
    "superhero = iter(flash)\n",
    "\n",
    "# Print each item from the iterator\n",
    "print(next(superhero))\n",
    "print(next(superhero))\n",
    "print(next(superhero))\n",
    "print(next(superhero))"
   ]
  },
  {
   "attachments": {},
   "cell_type": "markdown",
   "id": "98b67cf6",
   "metadata": {},
   "source": [
    "### 用*全部迭代"
   ]
  },
  {
   "cell_type": "code",
   "execution_count": 3,
   "id": "236a6be7",
   "metadata": {},
   "outputs": [
    {
     "name": "stdout",
     "output_type": "stream",
     "text": [
      "D a t a\n"
     ]
    }
   ],
   "source": [
    "word = 'Data'\n",
    "it = iter(word)\n",
    "print(*it)\n"
   ]
  },
  {
   "attachments": {},
   "cell_type": "markdown",
   "id": "87724d2a",
   "metadata": {},
   "source": [
    "# 1.2 playing with iterators  "
   ]
  },
  {
   "cell_type": "code",
   "execution_count": 27,
   "id": "983bc8bf",
   "metadata": {},
   "outputs": [
    {
     "name": "stdout",
     "output_type": "stream",
     "text": [
      "<zip object at 0x106cd97c8>\n",
      "['hawkeyebarton', 'iron manstark', 'thorodinson', 'quicksilvermaximoff']\n"
     ]
    }
   ],
   "source": [
    " avengers = ['hawkeye', 'iron man', 'thor', 'quicksilver']\n",
    "names = ['barton', 'stark', 'odinson', 'maximoff']\n",
    "z = zip(avengers, names)\n",
    "print(z)\n",
    "\n",
    "b = [i+ j for i , j in  z]\n",
    "print(b)"
   ]
  },
  {
   "cell_type": "code",
   "execution_count": 5,
   "id": "f553e1c4",
   "metadata": {},
   "outputs": [
    {
     "name": "stdout",
     "output_type": "stream",
     "text": [
      "('hawkeye', 'barton') ('iron man', 'stark') ('thor', 'odinson') ('quicksilver', 'maximoff')\n"
     ]
    }
   ],
   "source": [
    " avengers = ['hawkeye', 'iron man', 'thor', 'quicksilver']\n",
    "names = ['barton', 'stark', 'odinson', 'maximoff']\n",
    "z = zip(avengers, names)\n",
    "print(*z)"
   ]
  },
  {
   "attachments": {},
   "cell_type": "markdown",
   "id": "74f286a7",
   "metadata": {},
   "source": [
    "#### enumerate(list, start) 三种显示index迭代方法"
   ]
  },
  {
   "cell_type": "code",
   "execution_count": null,
   "id": "5af293c8",
   "metadata": {},
   "outputs": [],
   "source": [
    "# Create a list of strings: mutants\n",
    "mutants = ['charles xavier', \n",
    "            'bobby drake', \n",
    "            'kurt wagner', \n",
    "            'max eisenhardt', \n",
    "            'kitty pryde']\n",
    "\n",
    "# Create a list of tuples: mutant_list\n",
    "mutant_list = list(enumerate(mutants))\n",
    "\n",
    "# Print the list of tuples\n",
    "print(mutant_list)\n",
    "\n",
    "# Unpack and print the tuple pairs\n",
    "for index1, value1 in enumerate(mutants):\n",
    "    print(index1, value1)\n",
    "\n",
    "# Change the start index,改变起始index位置\n",
    "for index2, value2 in enumerate(mutants, start = 1):\n",
    "    print(index2, value2)\n"
   ]
  },
  {
   "cell_type": "code",
   "execution_count": 15,
   "id": "bf80f9fd",
   "metadata": {},
   "outputs": [
    {
     "ename": "SyntaxError",
     "evalue": "can't use starred expression here (<ipython-input-15-5634dac29f71>, line 16)",
     "output_type": "error",
     "traceback": [
      "\u001b[0;36m  File \u001b[0;32m\"<ipython-input-15-5634dac29f71>\"\u001b[0;36m, line \u001b[0;32m16\u001b[0m\n\u001b[0;31m    print(result1 == avengers)\u001b[0m\n\u001b[0m                              ^\u001b[0m\n\u001b[0;31mSyntaxError\u001b[0m\u001b[0;31m:\u001b[0m can't use starred expression here\n"
     ]
    }
   ],
   "source": [
    " avengers = ('hawkeye', 'iron man', 'thor', 'quicksilver')\n",
    "names = ('barton', 'stark', 'odinson', 'maximoff')\n",
    "# Create a zip object from mutants and powers: z1\n",
    "z1 = zip(avengers, names)\n",
    "\n",
    "# Print the tuples in z1 by unpacking with *\n",
    "print(*z1)\n",
    "\n",
    "# Re-create a zip object from mutants and powers: z1\n",
    "z1 = zip(avengers, names)\n",
    "\n",
    "# 'Unzip' the tuples in z1 by unpacking with * and zip(): result1, result2\n",
    "# result1, result2 = *z1 迭代打印可以，unpack是不行的\n",
    "result1, result2 = zip(*z1)\n",
    "\n",
    "# Check if unpacked tuples are equivalent to original tuples\n",
    "print(result1 == avengers)\n",
    "print(result2 == names)\n"
   ]
  },
  {
   "attachments": {},
   "cell_type": "markdown",
   "id": "330e3cc9",
   "metadata": {},
   "source": [
    "# 1.3 使用iterators to load large files into memory\n",
    "## 当太大数据以致不能导入到内存中，可以使用chunks to load data!"
   ]
  },
  {
   "cell_type": "code",
   "execution_count": null,
   "id": "90c1bf59",
   "metadata": {},
   "outputs": [],
   "source": [
    "import pandas as pd\n",
    "result = []\n",
    "for chunk in pd.read_csv('data.csv', chunksize=1000):\n",
    "    result.append(sum(chunk['x']))\n",
    "total = sum(result)\n",
    "print(total)"
   ]
  },
  {
   "cell_type": "code",
   "execution_count": null,
   "id": "4bb1ac9c",
   "metadata": {},
   "outputs": [],
   "source": [
    "import pandas as pd\n",
    "total = 0\n",
    "for chunk in pd.read_csv('data.csv', chunksize=1000):\n",
    "    total += sum(chunk['x'])\n",
    "print(total)"
   ]
  },
  {
   "cell_type": "code",
   "execution_count": null,
   "id": "c470df69",
   "metadata": {},
   "outputs": [],
   "source": [
    "# Initialize an empty dictionary: counts_dict\n",
    "counts_dict = dict()\n",
    "\n",
    "# Iterate over the file chunk by chunk\n",
    "for chunk in pd.read_csv('tweets.csv', chunksize = 10):\n",
    "\n",
    "    # Iterate over the column in DataFrame\n",
    "    for entry in chunk['lang']:\n",
    "        if entry in counts_dict.keys():\n",
    "            counts_dict[entry] += 1\n",
    "        else:\n",
    "            counts_dict[entry] = 1\n",
    "\n",
    "# Print the populated dictionary\n",
    "print(counts_dict)"
   ]
  },
  {
   "attachments": {},
   "cell_type": "markdown",
   "id": "d3010bdf",
   "metadata": {},
   "source": [
    "#### 定义function来计算大文件的某一列的统计数量"
   ]
  },
  {
   "cell_type": "code",
   "execution_count": null,
   "id": "c063ca05",
   "metadata": {},
   "outputs": [],
   "source": [
    "# Define count_entries()\n",
    "def count_entries(csv_file , c_size , colname):\n",
    "    \"\"\"Return a dictionary with counts of\n",
    "    occurrences as value for each key.\"\"\"\n",
    "\n",
    "    \n",
    "\n",
    "    # Initialize an empty dictionary: counts_dict\n",
    "    counts_dict = {}\n",
    "\n",
    "    # Iterate over the file chunk by chunk\n",
    "    for chunk in pd.read_csv(csv_file ,chunksize = c_size):\n",
    "\n",
    "        # Iterate over the column in DataFrame\n",
    "        for entry in chunk[colname]:\n",
    "            if entry in counts_dict.keys():\n",
    "                counts_dict[entry] += 1\n",
    "            else:\n",
    "                counts_dict[entry] = 1\n",
    "\n",
    "    # Return counts_dict\n",
    "    return counts_dict\n",
    "\n",
    "# Call count_entries(): result_counts\n",
    "result_counts = count_entries('tweets.csv', 10, 'lang')\n",
    "\n",
    "# Print result_counts\n",
    "print(result_counts)\n"
   ]
  },
  {
   "attachments": {},
   "cell_type": "markdown",
   "id": "3bcd62aa",
   "metadata": {},
   "source": [
    "# 2.1 极其方便的list comprehension, 将for loops 变成单行\n",
    "#### List comprehension 组成是1.iterable; 2. iterator variable(such as for i in range(10)中的 i )；3. output expression.\n",
    "#### string, list, range()像这些都iterable的都能list comprehension, 像 int 不可iterable 的就不能list comprehension"
   ]
  },
  {
   "cell_type": "code",
   "execution_count": null,
   "id": "2faee430",
   "metadata": {},
   "outputs": [],
   "source": [
    "nums = [12, 8, 21, 3, 16]\n",
    "new_nums = [num + 1 for num in nums]\n",
    "print(new_nums)\n",
    "\n",
    "# Create list comprehension: squares\n",
    "squares = [i **2 for i in range(10)]\n"
   ]
  },
  {
   "cell_type": "code",
   "execution_count": 18,
   "id": "587fcb0e",
   "metadata": {},
   "outputs": [
    {
     "name": "stdout",
     "output_type": "stream",
     "text": [
      "[(0, 6), (0, 7), (1, 6), (1, 7)]\n",
      "[(0, 6), (0, 7), (1, 6), (1, 7)]\n"
     ]
    }
   ],
   "source": [
    "pairs_2 = [(num1, num2) for num1 in range(0, 2) for num2 in range(6, 8)]\n",
    "print(pairs_2)\n",
    "\n",
    "#不用list comprehension 时，得这样\n",
    "pairs_1 = []\n",
    "for num1 in range(0, 2):\n",
    "    for num2 in range(6, 8):\n",
    "        pairs_1.append((num1, num2))\n",
    "print(pairs_1)"
   ]
  },
  {
   "attachments": {},
   "cell_type": "markdown",
   "id": "b048c4f5",
   "metadata": {},
   "source": [
    "### 用list comprehension 创建矩阵matrix"
   ]
  },
  {
   "cell_type": "code",
   "execution_count": 20,
   "id": "a2523ca8",
   "metadata": {},
   "outputs": [
    {
     "name": "stdout",
     "output_type": "stream",
     "text": [
      "[[0, 1, 2, 3, 4], [0, 1, 2, 3, 4], [0, 1, 2, 3, 4], [0, 1, 2, 3, 4], [0, 1, 2, 3, 4]]\n",
      "[0, 1, 2, 3, 4]\n",
      "[0, 1, 2, 3, 4]\n",
      "[0, 1, 2, 3, 4]\n",
      "[0, 1, 2, 3, 4]\n",
      "[0, 1, 2, 3, 4]\n"
     ]
    }
   ],
   "source": [
    "# Create a 5 x 5 matrix using a list of lists: matrix\n",
    "matrix = [[col for col in range(5)] for row in range(5)]\n",
    "\n",
    "print(matrix)\n",
    "\n",
    "# Print the matrix\n",
    "for row in matrix:\n",
    "    print(row)\n"
   ]
  },
  {
   "attachments": {},
   "cell_type": "markdown",
   "id": "41be9492",
   "metadata": {},
   "source": [
    "## 条件list comprehension \n",
    "### [ *output expression* for *iterator variable* in *iterable* if *predicate expression* ]"
   ]
  },
  {
   "cell_type": "code",
   "execution_count": null,
   "id": "8eabd6f2",
   "metadata": {},
   "outputs": [],
   "source": [
    "# Create a list of strings: fellowship\n",
    "fellowship = ['frodo', 'samwise', 'merry', 'aragorn', 'legolas', 'boromir', 'gimli']\n",
    "\n",
    "# Create list comprehension: new_fellowship\n",
    "new_fellowship = [member for member in fellowship if len(member)>6]\n",
    "\n",
    "# Print the new list\n",
    "print(new_fellowship)\n"
   ]
  },
  {
   "attachments": {},
   "cell_type": "markdown",
   "id": "89825dc4",
   "metadata": {},
   "source": [
    "#### if else 表达略微不一样，if else放在for loop之前"
   ]
  },
  {
   "cell_type": "code",
   "execution_count": 29,
   "id": "10903b09",
   "metadata": {},
   "outputs": [
    {
     "name": "stdout",
     "output_type": "stream",
     "text": [
      "['', 'samwise', '', 'aragorn', 'legolas', 'boromir', '']\n"
     ]
    }
   ],
   "source": [
    "# Create a list of strings: fellowship\n",
    "fellowship = ['frodo', 'samwise', 'merry', 'aragorn', 'legolas', 'boromir', 'gimli']\n",
    "\n",
    "# Create list comprehension: new_fellowship\n",
    "new_fellowship = [ member if len(member) >= 7 else  '' for member in fellowship]\n",
    "\n",
    "# Print the new list\n",
    "print(new_fellowship)"
   ]
  },
  {
   "attachments": {},
   "cell_type": "markdown",
   "id": "3459b3fe",
   "metadata": {},
   "source": [
    "## dict comprehension \n",
    "#### The main difference between a list comprehension and a dict comprehension is the use of curly braces {} instead of []. Additionally, members of the dictionary are created using a colon :, as in <key> : <value>."
   ]
  },
  {
   "cell_type": "code",
   "execution_count": null,
   "id": "05062a5f",
   "metadata": {},
   "outputs": [],
   "source": [
    "# Create a list of strings: fellowship\n",
    "fellowship = ['frodo', 'samwise', 'merry', 'aragorn', 'legolas', 'boromir', 'gimli']\n",
    "\n",
    "# Create dict comprehension: new_fellowship\n",
    "new_fellowship = { member : len(member) for member in fellowship }\n",
    "\n",
    "# Print the new dictionary\n",
    "print(new_fellowship)\n"
   ]
  },
  {
   "attachments": {},
   "cell_type": "markdown",
   "id": "bbde6473",
   "metadata": {},
   "source": [
    "# 2.2 Generator \n",
    "### list comprehension 在数运算大的时候就会卡死，如[ i for i in range(10 **10000)], generator 不会\n",
    "\n",
    "#### List of strings\n",
    "fellowship = ['frodo', 'samwise', 'merry', 'aragorn', 'legolas', 'boromir', 'gimli']\n",
    "\n",
    "#### List comprehension\n",
    "fellow1 = [member for member in fellowship if len(member) >= 7]\n",
    "\n",
    "#### Generator expression\n",
    "fellow2 = (member for member in fellowship if len(member) >= 7)"
   ]
  },
  {
   "cell_type": "code",
   "execution_count": 22,
   "id": "09442131",
   "metadata": {},
   "outputs": [
    {
     "name": "stdout",
     "output_type": "stream",
     "text": [
      "6\n",
      "5\n",
      "5\n",
      "6\n",
      "7\n"
     ]
    }
   ],
   "source": [
    "# Create a list of strings: lannister\n",
    "lannister = ['cersei', 'jaime', 'tywin', 'tyrion', 'joffrey']\n",
    "\n",
    "# Create a generator object: lengths\n",
    "lengths = (len(person)for person in lannister )\n",
    "\n",
    "# Iterate over and print the values in lengths\n",
    "for value in lengths:\n",
    "    print(value)\n"
   ]
  },
  {
   "attachments": {},
   "cell_type": "markdown",
   "id": "dcd842fd",
   "metadata": {},
   "source": [
    "## 2.2.2 generator function\n",
    "\n",
    "Generator functions are functions that, like generator expressions, yield a series of values, instead of returning a single value. A generator function is defined as you do a regular function, but whenever it generates a value, it uses the keyword yield instead of return.\n",
    "\n",
    "Generators allow users to lazily evaluate data. This concept of *lazy evaluation* is useful when you have to deal with very large datasets because it lets you generate values in an efficient manner by yielding only chunks of data at a time instead of the whole thing at once."
   ]
  },
  {
   "cell_type": "code",
   "execution_count": 21,
   "id": "bf214342",
   "metadata": {},
   "outputs": [
    {
     "name": "stdout",
     "output_type": "stream",
     "text": [
      "6\n",
      "5\n",
      "5\n",
      "6\n",
      "7\n"
     ]
    }
   ],
   "source": [
    "# Create a list of strings\n",
    "lannister = ['cersei', 'jaime', 'tywin', 'tyrion', 'joffrey']\n",
    "\n",
    "# Define generator function get_lengths\n",
    "def get_lengths(input_list):\n",
    "    \"\"\"Generator function that yields the\n",
    "    length of the strings in input_list.\"\"\"\n",
    "\n",
    "    # Yield the length of a string\n",
    "    for person in input_list:\n",
    "        yield len(person)\n",
    "\n",
    "# Print the values generated by get_lengths()\n",
    "for value in get_lengths(lannister):\n",
    "    print(value)"
   ]
  },
  {
   "attachments": {},
   "cell_type": "markdown",
   "id": "d1c405ea",
   "metadata": {},
   "source": [
    "## with open('XX.csv') as file_name :\n",
    "代码更佳简洁，并且不必每次调用f.close()方法，会自动帮我们close。总之，使用Python内置open函数打开文件，提倡with open() as .\n",
    "而 使用Python内置的open()函数， 每次都要调用close()方法关闭文件。文件使用完毕后必须关闭，因为文件对象会占用操作系统的资源，并且操作系统同一时间能打开的文件数量也是有限的. 详细说明参考：https://blog.csdn.net/xrinosvip/article/details/82019844"
   ]
  },
  {
   "attachments": {},
   "cell_type": "markdown",
   "id": "d00b3105",
   "metadata": {},
   "source": [
    "## case study 世界银行组织 国家城市人口 可视化\n",
    "#### 说明， 'ind_pop_data.csv' 是一个非常大的文件，本地没下载。大文件需要用到generator， 用chunksize分批读取。以下代码基本是实战代码，结合了调用函数，generator 读取，list comprehension， iterator."
   ]
  },
  {
   "cell_type": "code",
   "execution_count": null,
   "id": "7c452f26",
   "metadata": {},
   "outputs": [],
   "source": [
    "# Define plot_pop()\n",
    "def plot_pop(filename, country_code):\n",
    "\n",
    "    # Initialize reader object: urb_pop_reader\n",
    "    urb_pop_reader = pd.read_csv(filename, chunksize=1000)\n",
    "\n",
    "    # Initialize empty DataFrame: data\n",
    "    data = pd.DataFrame()\n",
    "    \n",
    "    # Iterate over each DataFrame chunk\n",
    "    for df_urb_pop in urb_pop_reader:\n",
    "        # Check out specific country: df_pop_ceb\n",
    "        df_pop_ceb = df_urb_pop[df_urb_pop['CountryCode'] == country_code]\n",
    "\n",
    "        # Zip DataFrame columns of interest: pops\n",
    "        pops = zip(df_pop_ceb['Total Population'],\n",
    "                    df_pop_ceb['Urban population (% of total)'])\n",
    "\n",
    "        # Turn zip object into list: pops_list\n",
    "        pops_list = list(pops)\n",
    "\n",
    "        # Use list comprehension to create new DataFrame column 'Total Urban Population'\n",
    "        df_pop_ceb['Total Urban Population'] = [int(tup[0] * tup[1] * 0.01) for tup in pops_list]\n",
    "    \n",
    "        # Append DataFrame chunk to data: data\n",
    "        data = data.append(df_pop_ceb)\n",
    "\n",
    "    # Plot urban population data\n",
    "    data.plot(kind='scatter', x='Year', y='Total Urban Population')\n",
    "    plt.show()\n",
    "\n",
    "# Set the filename: fn\n",
    "fn = 'ind_pop_data.csv'\n",
    "\n",
    "# Call plot_pop for country code 'CEB'\n",
    "plot_pop('ind_pop_data.csv', 'CEB')\n",
    "\n",
    "# Call plot_pop for country code 'ARB'\n",
    "plot_pop('ind_pop_data.csv', 'ARB')"
   ]
  }
 ],
 "metadata": {
  "kernelspec": {
   "display_name": "Python 3",
   "language": "python",
   "name": "python3"
  },
  "language_info": {
   "codemirror_mode": {
    "name": "ipython",
    "version": 3
   },
   "file_extension": ".py",
   "mimetype": "text/x-python",
   "name": "python",
   "nbconvert_exporter": "python",
   "pygments_lexer": "ipython3",
   "version": "3.6.10"
  }
 },
 "nbformat": 4,
 "nbformat_minor": 5
}
