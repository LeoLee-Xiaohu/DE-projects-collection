{
 "cells": [
  {
   "cell_type": "markdown",
   "id": "81631fb2",
   "metadata": {},
   "source": [
    "# 1.Nested function()\n"
   ]
  },
  {
   "cell_type": "code",
   "execution_count": null,
   "id": "7af08b3f",
   "metadata": {},
   "outputs": [],
   "source": [
    " def mod2plus5(x1, x2, x3):\n",
    "    \"\"\"Returns the remainder plus 5 of three values.\"\"\"\n",
    "    new_x1 = x1 % 2 + 5\n",
    "    new_x2 = x2 % 2 + 5\n",
    "    new_x3 = x3 % 2 + 5\n",
    "    return (new_x1, new_x2, new_x3)\n",
    "#没有nested ,效率不高"
   ]
  },
  {
   "cell_type": "code",
   "execution_count": 1,
   "id": "d26eb572",
   "metadata": {},
   "outputs": [
    {
     "name": "stdout",
     "output_type": "stream",
     "text": [
      "(6, 5, 6)\n"
     ]
    }
   ],
   "source": [
    " def mod2plus5(x1, x2, x3):\n",
    "    \"\"\"最外层函数也叫enclosing function. Returns the remainder plus 5 of three values.\"\"\"\n",
    "    def inner(x):\n",
    "        \"\"\"Returns the remainder plus 5 of a value.\"\"\"\n",
    "        return x % 2 + 5\n",
    "    return (inner(x1), inner(x2), inner(x3))\n",
    "#nested function 提高效率\n",
    "print(mod2plus5(1, 2, 3))\n",
    "\n",
    "       "
   ]
  },
  {
   "cell_type": "markdown",
   "id": "48ad1f48",
   "metadata": {},
   "source": [
    "### returning functions 与nested function 有点点不一样，return不同。\n",
    "### nested return 如上面的例子 return (inner(x1), inner(x2), inner(x3))\n",
    "### 而returning function 是return inner 将外层函数传达内层，定义一个函数，在求内层给内层函数赋值"
   ]
  },
  {
   "cell_type": "code",
   "execution_count": null,
   "id": "8798c8dc",
   "metadata": {},
   "outputs": [],
   "source": [
    " def raise_val(n):\n",
    "    \"\"\"Return the inner function.\"\"\"\n",
    "    def inner(x):\n",
    "    \"\"\"Raise x to the power of n.\"\"\"\n",
    "        raised = x ** n\n",
    "        return raised\n",
    "return inner\n",
    "\n",
    "square = raise_val(2)\n",
    "cube = raise_val(3)\n",
    "print(square(2), cube(4))"
   ]
  },
  {
   "cell_type": "code",
   "execution_count": 6,
   "id": "57026f7c",
   "metadata": {},
   "outputs": [
    {
     "name": "stdout",
     "output_type": "stream",
     "text": [
      "hellohello hellohellohello\n"
     ]
    }
   ],
   "source": [
    "# Define echo\n",
    "def echo(n):\n",
    "    \"\"\"Return the inner_echo function.\"\"\"\n",
    "\n",
    "    # Define inner_echo\n",
    "    def inner_echo(word1):\n",
    "        \"\"\"Concatenate n copies of word1.\"\"\"\n",
    "        echo_word = word1 * n\n",
    "        return echo_word\n",
    "\n",
    "    # Return inner_echo\n",
    "    return inner_echo\n",
    "\n",
    "# Call echo: twice\n",
    "twice = echo(2)\n",
    "\n",
    "# Call echo: thrice\n",
    "thrice = echo(3)\n",
    "\n",
    "# Call twice() and thrice() then print\n",
    "print(twice('hello'), thrice('hello'))"
   ]
  },
  {
   "cell_type": "markdown",
   "id": "206093aa",
   "metadata": {},
   "source": [
    "### nonlocal 声明的变量不是局部变量,也不是全局变量,而是外部嵌套函数内的变量,操作方式有点像global."
   ]
  },
  {
   "cell_type": "code",
   "execution_count": 5,
   "id": "61f20c86",
   "metadata": {},
   "outputs": [
    {
     "name": "stdout",
     "output_type": "stream",
     "text": [
      "2\n",
      "2\n"
     ]
    }
   ],
   "source": [
    "def outer():\n",
    "    \"\"\"Prints the value of n.\"\"\" \n",
    "    n=1\n",
    "    def inner():\n",
    "        nonlocal n\n",
    "        n=2 \n",
    "        print(n)\n",
    "    inner()\n",
    "    print(n)\n",
    "    \n",
    "    \n",
    "outer()"
   ]
  },
  {
   "cell_type": "markdown",
   "id": "ccf69388",
   "metadata": {},
   "source": [
    "### 总结：scopes searched 遵循LEGB原则\n",
    "Local scop > Enclosing functions > Global > Built-in "
   ]
  },
  {
   "cell_type": "markdown",
   "id": "d286e5a4",
   "metadata": {},
   "source": [
    "# 2. 参数\n",
    "## defualt 默认参数"
   ]
  },
  {
   "cell_type": "code",
   "execution_count": null,
   "id": "e752d765",
   "metadata": {},
   "outputs": [],
   "source": [
    "# Define shout_echo\n",
    "def shout_echo(word1, echo = 1 , intense = False):\n",
    "    \"\"\"Concatenate echo copies of word1 and three\n",
    "    exclamation marks at the end of the string.\"\"\"\n",
    "\n",
    "    # Concatenate echo copies of word1 using *: echo_word\n",
    "    echo_word = word1 * echo\n",
    "\n",
    "    # Make echo_word uppercase if intense is True\n",
    "    if intense is True:\n",
    "        # Make uppercase and concatenate '!!!': echo_word_new\n",
    "        echo_word_new = echo_word.upper() + '!!!'\n",
    "    else:\n",
    "        # Concatenate '!!!' to echo_word: echo_word_new\n",
    "        echo_word_new = echo_word + '!!!'\n",
    "\n",
    "    # Return echo_word_new\n",
    "    return echo_word_new\n",
    "\n",
    "# Call shout_echo() with \"Hey\", echo=5 and intense=True: with_big_echo\n",
    "with_big_echo = shout_echo(\"Hey\", 5, True)\n",
    "\n",
    "# Call shout_echo() with \"Hey\" and intense=True: big_no_echo 多参数时，用了default参数，其它参数要指定参数名称，不然不知道是哪个参数对应arg\n",
    "big_no_echo = shout_echo(\"Hey\",intense = True )\n",
    "\n",
    "# Print values\n",
    "print(with_big_echo)\n",
    "print(big_no_echo)"
   ]
  },
  {
   "cell_type": "markdown",
   "id": "7e326c83",
   "metadata": {},
   "source": [
    "## *args\n"
   ]
  },
  {
   "cell_type": "code",
   "execution_count": 7,
   "id": "f0a5fcdc",
   "metadata": {},
   "outputs": [
    {
     "name": "stdout",
     "output_type": "stream",
     "text": [
      "luke\n",
      "lukeleiahanobidarth\n"
     ]
    }
   ],
   "source": [
    "# Define gibberish\n",
    "def gibberish(*args):\n",
    "    \"\"\"Concatenate strings in *args together.\"\"\"\n",
    "\n",
    "    # Initialize an empty string: hodgepodge\n",
    "    hodgepodge = str() \n",
    "\n",
    "    # Concatenate the strings in args\n",
    "    for word in args:\n",
    "        hodgepodge += word\n",
    "\n",
    "    # Return hodgepodge\n",
    "    return hodgepodge\n",
    "\n",
    "# Call gibberish() with one string: one_word\n",
    "one_word = gibberish('luke')\n",
    "\n",
    "# Call gibberish() with five strings: many_words\n",
    "many_words = gibberish(\"luke\", \"leia\", \"han\", \"obi\", \"darth\")\n",
    "\n",
    "# Print one_word and many_words\n",
    "print(one_word)\n",
    "print(many_words)"
   ]
  },
  {
   "cell_type": "markdown",
   "id": "d9f9062b",
   "metadata": {},
   "source": [
    "## **kwargs 以参数名称和参数组合成字典形式的pair，注意是两个**"
   ]
  },
  {
   "cell_type": "code",
   "execution_count": 8,
   "id": "8a4d1454",
   "metadata": {},
   "outputs": [
    {
     "name": "stdout",
     "output_type": "stream",
     "text": [
      "\n",
      "BEGIN: REPORT\n",
      "\n",
      "name: luke\n",
      "affiliation: jedi\n",
      "status: missing\n",
      "\n",
      "END REPORT\n",
      "\n",
      "BEGIN: REPORT\n",
      "\n",
      "name: anakin\n",
      "affiliation: sith lord\n",
      "status: deceased\n",
      "\n",
      "END REPORT\n"
     ]
    }
   ],
   "source": [
    "# Define report_status\n",
    "def report_status(**kwargs):\n",
    "    \"\"\"Print out the status of a movie character.\"\"\"\n",
    "\n",
    "    print(\"\\nBEGIN: REPORT\\n\")\n",
    "\n",
    "    # Iterate over the key-value pairs of kwargs\n",
    "    for key, value in kwargs.items():\n",
    "        # Print out the keys and values, separated by a colon ':'\n",
    "        print(key + \": \" + value)\n",
    "\n",
    "    print(\"\\nEND REPORT\")\n",
    "\n",
    "# First call to report_status()\n",
    "report_status(name=\"luke\", affiliation=\"jedi\", status=\"missing\")\n",
    "\n",
    "# Second call to report_status()\n",
    "report_status(name=\"anakin\", affiliation=\"sith lord\", status=\"deceased\")"
   ]
  },
  {
   "cell_type": "markdown",
   "id": "4a1495fc",
   "metadata": {},
   "source": [
    "# 3.Lambda"
   ]
  },
  {
   "cell_type": "markdown",
   "id": "1ea976c4",
   "metadata": {},
   "source": [
    "## 3.1map(func, seq)"
   ]
  },
  {
   "cell_type": "code",
   "execution_count": 9,
   "id": "77157bb4",
   "metadata": {},
   "outputs": [
    {
     "name": "stdout",
     "output_type": "stream",
     "text": [
      "['protego!!!', 'accio!!!', 'expecto patronum!!!', 'legilimens!!!']\n"
     ]
    }
   ],
   "source": [
    "# Create a list of strings: spells\n",
    "spells = [\"protego\", \"accio\", \"expecto patronum\", \"legilimens\"]\n",
    "\n",
    "# Use map() to apply a lambda function over spells: shout_spells\n",
    "shout_spells = map(lambda s : s + \"!!!\", spells )\n",
    "\n",
    "# Convert shout_spells to a list: shout_spells_list\n",
    "shout_spells_list = list(shout_spells)\n",
    "\n",
    "# Print the result\n",
    "print(shout_spells_list)"
   ]
  },
  {
   "cell_type": "markdown",
   "id": "a77b61cf",
   "metadata": {},
   "source": [
    "## 3.2 filter(function, iterable) \n",
    "函数用于过滤序列，过滤掉不符合条件的元素，返回由符合条件元素组成的新列表。\n",
    "\n",
    "该接收两个参数，第一个为函数，第二个为序列，序列的每个元素作为参数传递给函数进行判断，然后返回 True 或 False，最后将返回 True 的元素放到新列表中。"
   ]
  },
  {
   "cell_type": "code",
   "execution_count": 10,
   "id": "333fb91b",
   "metadata": {},
   "outputs": [
    {
     "name": "stdout",
     "output_type": "stream",
     "text": [
      "['samwise', 'aragorn', 'boromir', 'legolas', 'gandalf']\n"
     ]
    }
   ],
   "source": [
    "# Create a list of strings: fellowship\n",
    "fellowship = ['frodo', 'samwise', 'merry', 'pippin', 'aragorn', 'boromir', 'legolas', 'gimli', 'gandalf']\n",
    "\n",
    "# Use filter() to apply a lambda function over fellowship: result\n",
    "result = filter(lambda f : len(f) > 6, fellowship)\n",
    "\n",
    "# Convert result to a list: result_list\n",
    "result_list = list(result)\n",
    "\n",
    "# Print result_list\n",
    "print(result_list)"
   ]
  },
  {
   "cell_type": "markdown",
   "id": "c0565fe5",
   "metadata": {},
   "source": [
    "## 3.3 reduce( function, iterable[, initializer])\n",
    "函数会对参数序列中元素进行累积。\n",
    "\n",
    "函数将一个数据集合（链表，元组等）中的所有数据进行下列操作：用传给 reduce 中的函数 function（有两个参数）先对集合中的第 1、2 个元素进行操作，得到的结果再与第三个数据用 function 函数运算，最后得到一个结果"
   ]
  },
  {
   "cell_type": "code",
   "execution_count": null,
   "id": "06641095",
   "metadata": {},
   "outputs": [],
   "source": [
    "from functools import reduce\n",
    "\n",
    "def add(x, y) :            # 两数相加\n",
    "    return x + y\n",
    "sum1 = reduce(add, [1,2,3,4,5])   # 计算列表和：1+2+3+4+5\n",
    "sum2 = reduce(lambda x, y: x+y, [1,2,3,4,5])  # 使用 lambda 匿名函数\n",
    "print(sum1)\n",
    "print(sum2)"
   ]
  },
  {
   "cell_type": "markdown",
   "id": "9cf29748",
   "metadata": {},
   "source": [
    "# 4.0 error and exceptions "
   ]
  },
  {
   "cell_type": "code",
   "execution_count": 14,
   "id": "4d88a5be",
   "metadata": {},
   "outputs": [
    {
     "ename": "ValueError",
     "evalue": "x must be non-negative",
     "output_type": "error",
     "traceback": [
      "\u001b[0;31m---------------------------------------------------------------------------\u001b[0m",
      "\u001b[0;31mValueError\u001b[0m                                Traceback (most recent call last)",
      "\u001b[0;32m<ipython-input-14-ecc905d336d7>\u001b[0m in \u001b[0;36m<module>\u001b[0;34m\u001b[0m\n\u001b[1;32m      8\u001b[0m         \u001b[0mprint\u001b[0m\u001b[0;34m(\u001b[0m\u001b[0;34m'x must be an int or float'\u001b[0m\u001b[0;34m)\u001b[0m\u001b[0;34m\u001b[0m\u001b[0;34m\u001b[0m\u001b[0m\n\u001b[1;32m      9\u001b[0m \u001b[0;34m\u001b[0m\u001b[0m\n\u001b[0;32m---> 10\u001b[0;31m \u001b[0msqrt\u001b[0m\u001b[0;34m(\u001b[0m\u001b[0;34m-\u001b[0m\u001b[0;36m9\u001b[0m\u001b[0;34m)\u001b[0m\u001b[0;34m\u001b[0m\u001b[0;34m\u001b[0m\u001b[0m\n\u001b[0m",
      "\u001b[0;32m<ipython-input-14-ecc905d336d7>\u001b[0m in \u001b[0;36msqrt\u001b[0;34m(x)\u001b[0m\n\u001b[1;32m      2\u001b[0m     \u001b[0;34m\"\"\"Returns the square root of a number.\"\"\"\u001b[0m\u001b[0;34m\u001b[0m\u001b[0;34m\u001b[0m\u001b[0m\n\u001b[1;32m      3\u001b[0m     \u001b[0;32mif\u001b[0m \u001b[0mx\u001b[0m \u001b[0;34m<\u001b[0m \u001b[0;36m0\u001b[0m\u001b[0;34m:\u001b[0m\u001b[0;34m\u001b[0m\u001b[0;34m\u001b[0m\u001b[0m\n\u001b[0;32m----> 4\u001b[0;31m         \u001b[0;32mraise\u001b[0m \u001b[0mValueError\u001b[0m\u001b[0;34m(\u001b[0m\u001b[0;34m'x must be non-negative'\u001b[0m\u001b[0;34m)\u001b[0m\u001b[0;34m\u001b[0m\u001b[0;34m\u001b[0m\u001b[0m\n\u001b[0m\u001b[1;32m      5\u001b[0m     \u001b[0;32mtry\u001b[0m\u001b[0;34m:\u001b[0m\u001b[0;34m\u001b[0m\u001b[0;34m\u001b[0m\u001b[0m\n\u001b[1;32m      6\u001b[0m         \u001b[0;32mreturn\u001b[0m \u001b[0mx\u001b[0m \u001b[0;34m**\u001b[0m \u001b[0;36m0.5\u001b[0m\u001b[0;34m\u001b[0m\u001b[0;34m\u001b[0m\u001b[0m\n",
      "\u001b[0;31mValueError\u001b[0m: x must be non-negative"
     ]
    }
   ],
   "source": [
    "def sqrt(x):\n",
    "    \"\"\"Returns the square root of a number.\"\"\"\n",
    "    if x < 0:\n",
    "        raise ValueError('x must be non-negative')\n",
    "    try:\n",
    "        return x ** 0.5\n",
    "    except TypeError:\n",
    "        print('x must be an int or float')\n",
    "  \n",
    "sqrt(-9)"
   ]
  }
 ],
 "metadata": {
  "kernelspec": {
   "display_name": "Python 3",
   "language": "python",
   "name": "python3"
  },
  "language_info": {
   "codemirror_mode": {
    "name": "ipython",
    "version": 3
   },
   "file_extension": ".py",
   "mimetype": "text/x-python",
   "name": "python",
   "nbconvert_exporter": "python",
   "pygments_lexer": "ipython3",
   "version": "3.6.10"
  }
 },
 "nbformat": 4,
 "nbformat_minor": 5
}
